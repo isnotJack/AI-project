{
 "cells": [
  {
   "cell_type": "code",
   "execution_count": 1,
   "id": "3bef42a1",
   "metadata": {
    "_cell_guid": "b1076dfc-b9ad-4769-8c92-a6c4dae69d19",
    "_uuid": "8f2839f25d086af736a60e9eeb907d3b93b6e0e5",
    "execution": {
     "iopub.execute_input": "2023-11-13T12:18:07.735366Z",
     "iopub.status.busy": "2023-11-13T12:18:07.734843Z",
     "iopub.status.idle": "2023-11-13T12:18:10.213571Z",
     "shell.execute_reply": "2023-11-13T12:18:10.212290Z"
    },
    "papermill": {
     "duration": 2.497868,
     "end_time": "2023-11-13T12:18:10.216460",
     "exception": false,
     "start_time": "2023-11-13T12:18:07.718592",
     "status": "completed"
    },
    "tags": []
   },
   "outputs": [],
   "source": [
    "import pandas as pd\n",
    "import numpy as np\n",
    "import seaborn as sns\n",
    "import matplotlib.pyplot as plt\n",
    "\n",
    "from sklearn.metrics import mean_squared_error\n",
    "from sklearn.metrics import mean_absolute_error"
   ]
  },
  {
   "cell_type": "code",
   "execution_count": 2,
   "id": "a4a70ba2",
   "metadata": {
    "execution": {
     "iopub.execute_input": "2023-11-13T12:18:10.246882Z",
     "iopub.status.busy": "2023-11-13T12:18:10.246312Z",
     "iopub.status.idle": "2023-11-13T12:18:10.282705Z",
     "shell.execute_reply": "2023-11-13T12:18:10.281520Z"
    },
    "papermill": {
     "duration": 0.055349,
     "end_time": "2023-11-13T12:18:10.285539",
     "exception": false,
     "start_time": "2023-11-13T12:18:10.230190",
     "status": "completed"
    },
    "tags": []
   },
   "outputs": [],
   "source": [
    "file_path = \"dataset/salaries.csv\"  \n",
    "df = pd.read_csv(file_path)"
   ]
  },
  {
   "cell_type": "markdown",
   "id": "6029217f",
   "metadata": {
    "papermill": {
     "duration": 0.013094,
     "end_time": "2023-11-13T12:18:10.312101",
     "exception": false,
     "start_time": "2023-11-13T12:18:10.299007",
     "status": "completed"
    },
    "tags": []
   },
   "source": [
    "# Exploring Data"
   ]
  },
  {
   "cell_type": "code",
   "execution_count": 3,
   "id": "8a2eb02e",
   "metadata": {
    "execution": {
     "iopub.execute_input": "2023-11-13T12:18:10.341493Z",
     "iopub.status.busy": "2023-11-13T12:18:10.341012Z",
     "iopub.status.idle": "2023-11-13T12:18:10.414379Z",
     "shell.execute_reply": "2023-11-13T12:18:10.413026Z"
    },
    "papermill": {
     "duration": 0.092111,
     "end_time": "2023-11-13T12:18:10.417517",
     "exception": false,
     "start_time": "2023-11-13T12:18:10.325406",
     "status": "completed"
    },
    "tags": []
   },
   "outputs": [
    {
     "data": {
      "text/html": [
       "<div>\n",
       "<style scoped>\n",
       "    .dataframe tbody tr th:only-of-type {\n",
       "        vertical-align: middle;\n",
       "    }\n",
       "\n",
       "    .dataframe tbody tr th {\n",
       "        vertical-align: top;\n",
       "    }\n",
       "\n",
       "    .dataframe thead th {\n",
       "        text-align: right;\n",
       "    }\n",
       "</style>\n",
       "<table border=\"1\" class=\"dataframe\">\n",
       "  <thead>\n",
       "    <tr style=\"text-align: right;\">\n",
       "      <th></th>\n",
       "      <th>work_year</th>\n",
       "      <th>experience_level</th>\n",
       "      <th>employment_type</th>\n",
       "      <th>job_title</th>\n",
       "      <th>salary</th>\n",
       "      <th>salary_currency</th>\n",
       "      <th>salary_in_usd</th>\n",
       "      <th>employee_residence</th>\n",
       "      <th>remote_ratio</th>\n",
       "      <th>company_location</th>\n",
       "      <th>company_size</th>\n",
       "    </tr>\n",
       "  </thead>\n",
       "  <tbody>\n",
       "    <tr>\n",
       "      <th>0</th>\n",
       "      <td>2024</td>\n",
       "      <td>MI</td>\n",
       "      <td>FT</td>\n",
       "      <td>Security Consultant</td>\n",
       "      <td>211000</td>\n",
       "      <td>USD</td>\n",
       "      <td>211000</td>\n",
       "      <td>US</td>\n",
       "      <td>0</td>\n",
       "      <td>US</td>\n",
       "      <td>M</td>\n",
       "    </tr>\n",
       "    <tr>\n",
       "      <th>1</th>\n",
       "      <td>2024</td>\n",
       "      <td>MI</td>\n",
       "      <td>FT</td>\n",
       "      <td>Security Consultant</td>\n",
       "      <td>142000</td>\n",
       "      <td>USD</td>\n",
       "      <td>142000</td>\n",
       "      <td>US</td>\n",
       "      <td>0</td>\n",
       "      <td>US</td>\n",
       "      <td>M</td>\n",
       "    </tr>\n",
       "    <tr>\n",
       "      <th>2</th>\n",
       "      <td>2024</td>\n",
       "      <td>MI</td>\n",
       "      <td>FT</td>\n",
       "      <td>Security Consultant</td>\n",
       "      <td>64417</td>\n",
       "      <td>GBP</td>\n",
       "      <td>80521</td>\n",
       "      <td>GB</td>\n",
       "      <td>0</td>\n",
       "      <td>GB</td>\n",
       "      <td>M</td>\n",
       "    </tr>\n",
       "    <tr>\n",
       "      <th>3</th>\n",
       "      <td>2024</td>\n",
       "      <td>MI</td>\n",
       "      <td>FT</td>\n",
       "      <td>Security Consultant</td>\n",
       "      <td>52584</td>\n",
       "      <td>GBP</td>\n",
       "      <td>65730</td>\n",
       "      <td>GB</td>\n",
       "      <td>0</td>\n",
       "      <td>GB</td>\n",
       "      <td>M</td>\n",
       "    </tr>\n",
       "    <tr>\n",
       "      <th>4</th>\n",
       "      <td>2024</td>\n",
       "      <td>MI</td>\n",
       "      <td>FT</td>\n",
       "      <td>Consultant</td>\n",
       "      <td>188400</td>\n",
       "      <td>USD</td>\n",
       "      <td>188400</td>\n",
       "      <td>US</td>\n",
       "      <td>0</td>\n",
       "      <td>US</td>\n",
       "      <td>M</td>\n",
       "    </tr>\n",
       "    <tr>\n",
       "      <th>5</th>\n",
       "      <td>2024</td>\n",
       "      <td>MI</td>\n",
       "      <td>FT</td>\n",
       "      <td>Consultant</td>\n",
       "      <td>125600</td>\n",
       "      <td>USD</td>\n",
       "      <td>125600</td>\n",
       "      <td>US</td>\n",
       "      <td>0</td>\n",
       "      <td>US</td>\n",
       "      <td>M</td>\n",
       "    </tr>\n",
       "    <tr>\n",
       "      <th>6</th>\n",
       "      <td>2024</td>\n",
       "      <td>MI</td>\n",
       "      <td>FT</td>\n",
       "      <td>Manager</td>\n",
       "      <td>246400</td>\n",
       "      <td>USD</td>\n",
       "      <td>246400</td>\n",
       "      <td>US</td>\n",
       "      <td>0</td>\n",
       "      <td>US</td>\n",
       "      <td>M</td>\n",
       "    </tr>\n",
       "    <tr>\n",
       "      <th>7</th>\n",
       "      <td>2024</td>\n",
       "      <td>MI</td>\n",
       "      <td>FT</td>\n",
       "      <td>Manager</td>\n",
       "      <td>117300</td>\n",
       "      <td>USD</td>\n",
       "      <td>117300</td>\n",
       "      <td>US</td>\n",
       "      <td>0</td>\n",
       "      <td>US</td>\n",
       "      <td>M</td>\n",
       "    </tr>\n",
       "    <tr>\n",
       "      <th>8</th>\n",
       "      <td>2024</td>\n",
       "      <td>MI</td>\n",
       "      <td>FT</td>\n",
       "      <td>Security Engineer</td>\n",
       "      <td>200200</td>\n",
       "      <td>USD</td>\n",
       "      <td>200200</td>\n",
       "      <td>US</td>\n",
       "      <td>0</td>\n",
       "      <td>US</td>\n",
       "      <td>M</td>\n",
       "    </tr>\n",
       "    <tr>\n",
       "      <th>9</th>\n",
       "      <td>2024</td>\n",
       "      <td>MI</td>\n",
       "      <td>FT</td>\n",
       "      <td>Security Engineer</td>\n",
       "      <td>190000</td>\n",
       "      <td>USD</td>\n",
       "      <td>190000</td>\n",
       "      <td>US</td>\n",
       "      <td>0</td>\n",
       "      <td>US</td>\n",
       "      <td>M</td>\n",
       "    </tr>\n",
       "  </tbody>\n",
       "</table>\n",
       "</div>"
      ],
      "text/plain": [
       "   work_year experience_level employment_type            job_title  salary  \\\n",
       "0       2024               MI              FT  Security Consultant  211000   \n",
       "1       2024               MI              FT  Security Consultant  142000   \n",
       "2       2024               MI              FT  Security Consultant   64417   \n",
       "3       2024               MI              FT  Security Consultant   52584   \n",
       "4       2024               MI              FT           Consultant  188400   \n",
       "5       2024               MI              FT           Consultant  125600   \n",
       "6       2024               MI              FT              Manager  246400   \n",
       "7       2024               MI              FT              Manager  117300   \n",
       "8       2024               MI              FT    Security Engineer  200200   \n",
       "9       2024               MI              FT    Security Engineer  190000   \n",
       "\n",
       "  salary_currency  salary_in_usd employee_residence  remote_ratio  \\\n",
       "0             USD         211000                 US             0   \n",
       "1             USD         142000                 US             0   \n",
       "2             GBP          80521                 GB             0   \n",
       "3             GBP          65730                 GB             0   \n",
       "4             USD         188400                 US             0   \n",
       "5             USD         125600                 US             0   \n",
       "6             USD         246400                 US             0   \n",
       "7             USD         117300                 US             0   \n",
       "8             USD         200200                 US             0   \n",
       "9             USD         190000                 US             0   \n",
       "\n",
       "  company_location company_size  \n",
       "0               US            M  \n",
       "1               US            M  \n",
       "2               GB            M  \n",
       "3               GB            M  \n",
       "4               US            M  \n",
       "5               US            M  \n",
       "6               US            M  \n",
       "7               US            M  \n",
       "8               US            M  \n",
       "9               US            M  "
      ]
     },
     "metadata": {},
     "output_type": "display_data"
    },
    {
     "name": "stdout",
     "output_type": "stream",
     "text": [
      "<class 'pandas.core.frame.DataFrame'>\n",
      "RangeIndex: 22609 entries, 0 to 22608\n",
      "Data columns (total 11 columns):\n",
      " #   Column              Non-Null Count  Dtype \n",
      "---  ------              --------------  ----- \n",
      " 0   work_year           22609 non-null  int64 \n",
      " 1   experience_level    22609 non-null  object\n",
      " 2   employment_type     22609 non-null  object\n",
      " 3   job_title           22609 non-null  object\n",
      " 4   salary              22609 non-null  int64 \n",
      " 5   salary_currency     22609 non-null  object\n",
      " 6   salary_in_usd       22609 non-null  int64 \n",
      " 7   employee_residence  22609 non-null  object\n",
      " 8   remote_ratio        22609 non-null  int64 \n",
      " 9   company_location    22609 non-null  object\n",
      " 10  company_size        22609 non-null  object\n",
      "dtypes: int64(4), object(7)\n",
      "memory usage: 1.9+ MB\n",
      "None\n",
      "Shaepe of tehe DataFrame (rows/columns): (22609, 11)\n"
     ]
    }
   ],
   "source": [
    "display(df.head(10))\n",
    "print(df.info())\n",
    "print('Shaepe of tehe DataFrame (rows/columns):', df.shape)"
   ]
  },
  {
   "cell_type": "code",
   "execution_count": 4,
   "id": "b46aec24",
   "metadata": {
    "execution": {
     "iopub.execute_input": "2023-11-13T12:18:10.451590Z",
     "iopub.status.busy": "2023-11-13T12:18:10.450952Z",
     "iopub.status.idle": "2023-11-13T12:18:10.467404Z",
     "shell.execute_reply": "2023-11-13T12:18:10.465539Z"
    },
    "papermill": {
     "duration": 0.039577,
     "end_time": "2023-11-13T12:18:10.474050",
     "exception": false,
     "start_time": "2023-11-13T12:18:10.434473",
     "status": "completed"
    },
    "tags": []
   },
   "outputs": [
    {
     "data": {
      "text/plain": [
       "work_year             0\n",
       "experience_level      0\n",
       "employment_type       0\n",
       "job_title             0\n",
       "salary                0\n",
       "salary_currency       0\n",
       "salary_in_usd         0\n",
       "employee_residence    0\n",
       "remote_ratio          0\n",
       "company_location      0\n",
       "company_size          0\n",
       "dtype: int64"
      ]
     },
     "execution_count": 4,
     "metadata": {},
     "output_type": "execute_result"
    }
   ],
   "source": [
    "df.isna().sum()"
   ]
  },
  {
   "cell_type": "code",
   "execution_count": 5,
   "id": "402a82a3",
   "metadata": {
    "execution": {
     "iopub.execute_input": "2023-11-13T12:18:10.507771Z",
     "iopub.status.busy": "2023-11-13T12:18:10.507355Z",
     "iopub.status.idle": "2023-11-13T12:18:10.522842Z",
     "shell.execute_reply": "2023-11-13T12:18:10.521581Z"
    },
    "papermill": {
     "duration": 0.034214,
     "end_time": "2023-11-13T12:18:10.525530",
     "exception": false,
     "start_time": "2023-11-13T12:18:10.491316",
     "status": "completed"
    },
    "tags": []
   },
   "outputs": [
    {
     "data": {
      "text/plain": [
       "9333"
      ]
     },
     "execution_count": 5,
     "metadata": {},
     "output_type": "execute_result"
    }
   ],
   "source": [
    "df.duplicated().sum()"
   ]
  },
  {
   "cell_type": "code",
   "execution_count": 6,
   "id": "15d9fd4d",
   "metadata": {
    "execution": {
     "iopub.execute_input": "2023-11-13T12:18:10.556473Z",
     "iopub.status.busy": "2023-11-13T12:18:10.556008Z",
     "iopub.status.idle": "2023-11-13T12:18:10.569849Z",
     "shell.execute_reply": "2023-11-13T12:18:10.568661Z"
    },
    "papermill": {
     "duration": 0.033398,
     "end_time": "2023-11-13T12:18:10.573089",
     "exception": false,
     "start_time": "2023-11-13T12:18:10.539691",
     "status": "completed"
    },
    "tags": []
   },
   "outputs": [],
   "source": [
    "df = df.drop_duplicates()"
   ]
  },
  {
   "cell_type": "code",
   "execution_count": 7,
   "id": "e46e8583",
   "metadata": {
    "execution": {
     "iopub.execute_input": "2023-11-13T12:18:10.603544Z",
     "iopub.status.busy": "2023-11-13T12:18:10.603106Z",
     "iopub.status.idle": "2023-11-13T12:18:10.623007Z",
     "shell.execute_reply": "2023-11-13T12:18:10.621743Z"
    },
    "papermill": {
     "duration": 0.038367,
     "end_time": "2023-11-13T12:18:10.625586",
     "exception": false,
     "start_time": "2023-11-13T12:18:10.587219",
     "status": "completed"
    },
    "tags": []
   },
   "outputs": [
    {
     "data": {
      "text/html": [
       "<div>\n",
       "<style scoped>\n",
       "    .dataframe tbody tr th:only-of-type {\n",
       "        vertical-align: middle;\n",
       "    }\n",
       "\n",
       "    .dataframe tbody tr th {\n",
       "        vertical-align: top;\n",
       "    }\n",
       "\n",
       "    .dataframe thead th {\n",
       "        text-align: right;\n",
       "    }\n",
       "</style>\n",
       "<table border=\"1\" class=\"dataframe\">\n",
       "  <thead>\n",
       "    <tr style=\"text-align: right;\">\n",
       "      <th></th>\n",
       "      <th>work_year</th>\n",
       "      <th>experience_level</th>\n",
       "      <th>employment_type</th>\n",
       "      <th>job_title</th>\n",
       "      <th>salary</th>\n",
       "      <th>salary_currency</th>\n",
       "      <th>salary_in_usd</th>\n",
       "      <th>employee_residence</th>\n",
       "      <th>remote_ratio</th>\n",
       "      <th>company_location</th>\n",
       "      <th>company_size</th>\n",
       "    </tr>\n",
       "  </thead>\n",
       "  <tbody>\n",
       "    <tr>\n",
       "      <th>0</th>\n",
       "      <td>2024</td>\n",
       "      <td>MI</td>\n",
       "      <td>FT</td>\n",
       "      <td>Security Consultant</td>\n",
       "      <td>211000</td>\n",
       "      <td>USD</td>\n",
       "      <td>211000</td>\n",
       "      <td>US</td>\n",
       "      <td>0</td>\n",
       "      <td>US</td>\n",
       "      <td>M</td>\n",
       "    </tr>\n",
       "    <tr>\n",
       "      <th>1</th>\n",
       "      <td>2024</td>\n",
       "      <td>MI</td>\n",
       "      <td>FT</td>\n",
       "      <td>Security Consultant</td>\n",
       "      <td>142000</td>\n",
       "      <td>USD</td>\n",
       "      <td>142000</td>\n",
       "      <td>US</td>\n",
       "      <td>0</td>\n",
       "      <td>US</td>\n",
       "      <td>M</td>\n",
       "    </tr>\n",
       "    <tr>\n",
       "      <th>2</th>\n",
       "      <td>2024</td>\n",
       "      <td>MI</td>\n",
       "      <td>FT</td>\n",
       "      <td>Security Consultant</td>\n",
       "      <td>64417</td>\n",
       "      <td>GBP</td>\n",
       "      <td>80521</td>\n",
       "      <td>GB</td>\n",
       "      <td>0</td>\n",
       "      <td>GB</td>\n",
       "      <td>M</td>\n",
       "    </tr>\n",
       "    <tr>\n",
       "      <th>3</th>\n",
       "      <td>2024</td>\n",
       "      <td>MI</td>\n",
       "      <td>FT</td>\n",
       "      <td>Security Consultant</td>\n",
       "      <td>52584</td>\n",
       "      <td>GBP</td>\n",
       "      <td>65730</td>\n",
       "      <td>GB</td>\n",
       "      <td>0</td>\n",
       "      <td>GB</td>\n",
       "      <td>M</td>\n",
       "    </tr>\n",
       "    <tr>\n",
       "      <th>4</th>\n",
       "      <td>2024</td>\n",
       "      <td>MI</td>\n",
       "      <td>FT</td>\n",
       "      <td>Consultant</td>\n",
       "      <td>188400</td>\n",
       "      <td>USD</td>\n",
       "      <td>188400</td>\n",
       "      <td>US</td>\n",
       "      <td>0</td>\n",
       "      <td>US</td>\n",
       "      <td>M</td>\n",
       "    </tr>\n",
       "    <tr>\n",
       "      <th>5</th>\n",
       "      <td>2024</td>\n",
       "      <td>MI</td>\n",
       "      <td>FT</td>\n",
       "      <td>Consultant</td>\n",
       "      <td>125600</td>\n",
       "      <td>USD</td>\n",
       "      <td>125600</td>\n",
       "      <td>US</td>\n",
       "      <td>0</td>\n",
       "      <td>US</td>\n",
       "      <td>M</td>\n",
       "    </tr>\n",
       "    <tr>\n",
       "      <th>6</th>\n",
       "      <td>2024</td>\n",
       "      <td>MI</td>\n",
       "      <td>FT</td>\n",
       "      <td>Manager</td>\n",
       "      <td>246400</td>\n",
       "      <td>USD</td>\n",
       "      <td>246400</td>\n",
       "      <td>US</td>\n",
       "      <td>0</td>\n",
       "      <td>US</td>\n",
       "      <td>M</td>\n",
       "    </tr>\n",
       "    <tr>\n",
       "      <th>7</th>\n",
       "      <td>2024</td>\n",
       "      <td>MI</td>\n",
       "      <td>FT</td>\n",
       "      <td>Manager</td>\n",
       "      <td>117300</td>\n",
       "      <td>USD</td>\n",
       "      <td>117300</td>\n",
       "      <td>US</td>\n",
       "      <td>0</td>\n",
       "      <td>US</td>\n",
       "      <td>M</td>\n",
       "    </tr>\n",
       "    <tr>\n",
       "      <th>8</th>\n",
       "      <td>2024</td>\n",
       "      <td>MI</td>\n",
       "      <td>FT</td>\n",
       "      <td>Security Engineer</td>\n",
       "      <td>200200</td>\n",
       "      <td>USD</td>\n",
       "      <td>200200</td>\n",
       "      <td>US</td>\n",
       "      <td>0</td>\n",
       "      <td>US</td>\n",
       "      <td>M</td>\n",
       "    </tr>\n",
       "    <tr>\n",
       "      <th>9</th>\n",
       "      <td>2024</td>\n",
       "      <td>MI</td>\n",
       "      <td>FT</td>\n",
       "      <td>Security Engineer</td>\n",
       "      <td>190000</td>\n",
       "      <td>USD</td>\n",
       "      <td>190000</td>\n",
       "      <td>US</td>\n",
       "      <td>0</td>\n",
       "      <td>US</td>\n",
       "      <td>M</td>\n",
       "    </tr>\n",
       "  </tbody>\n",
       "</table>\n",
       "</div>"
      ],
      "text/plain": [
       "   work_year experience_level employment_type            job_title  salary  \\\n",
       "0       2024               MI              FT  Security Consultant  211000   \n",
       "1       2024               MI              FT  Security Consultant  142000   \n",
       "2       2024               MI              FT  Security Consultant   64417   \n",
       "3       2024               MI              FT  Security Consultant   52584   \n",
       "4       2024               MI              FT           Consultant  188400   \n",
       "5       2024               MI              FT           Consultant  125600   \n",
       "6       2024               MI              FT              Manager  246400   \n",
       "7       2024               MI              FT              Manager  117300   \n",
       "8       2024               MI              FT    Security Engineer  200200   \n",
       "9       2024               MI              FT    Security Engineer  190000   \n",
       "\n",
       "  salary_currency  salary_in_usd employee_residence  remote_ratio  \\\n",
       "0             USD         211000                 US             0   \n",
       "1             USD         142000                 US             0   \n",
       "2             GBP          80521                 GB             0   \n",
       "3             GBP          65730                 GB             0   \n",
       "4             USD         188400                 US             0   \n",
       "5             USD         125600                 US             0   \n",
       "6             USD         246400                 US             0   \n",
       "7             USD         117300                 US             0   \n",
       "8             USD         200200                 US             0   \n",
       "9             USD         190000                 US             0   \n",
       "\n",
       "  company_location company_size  \n",
       "0               US            M  \n",
       "1               US            M  \n",
       "2               GB            M  \n",
       "3               GB            M  \n",
       "4               US            M  \n",
       "5               US            M  \n",
       "6               US            M  \n",
       "7               US            M  \n",
       "8               US            M  \n",
       "9               US            M  "
      ]
     },
     "execution_count": 7,
     "metadata": {},
     "output_type": "execute_result"
    }
   ],
   "source": [
    "df.head(10)"
   ]
  },
  {
   "cell_type": "code",
   "execution_count": 8,
   "id": "1fc41374",
   "metadata": {
    "execution": {
     "iopub.execute_input": "2023-11-13T12:18:10.657027Z",
     "iopub.status.busy": "2023-11-13T12:18:10.656620Z",
     "iopub.status.idle": "2023-11-13T12:18:10.711501Z",
     "shell.execute_reply": "2023-11-13T12:18:10.710133Z"
    },
    "papermill": {
     "duration": 0.074181,
     "end_time": "2023-11-13T12:18:10.714328",
     "exception": false,
     "start_time": "2023-11-13T12:18:10.640147",
     "status": "completed"
    },
    "tags": []
   },
   "outputs": [
    {
     "data": {
      "text/html": [
       "<div>\n",
       "<style scoped>\n",
       "    .dataframe tbody tr th:only-of-type {\n",
       "        vertical-align: middle;\n",
       "    }\n",
       "\n",
       "    .dataframe tbody tr th {\n",
       "        vertical-align: top;\n",
       "    }\n",
       "\n",
       "    .dataframe thead th {\n",
       "        text-align: right;\n",
       "    }\n",
       "</style>\n",
       "<table border=\"1\" class=\"dataframe\">\n",
       "  <thead>\n",
       "    <tr style=\"text-align: right;\">\n",
       "      <th></th>\n",
       "      <th>work_year</th>\n",
       "      <th>salary</th>\n",
       "      <th>salary_in_usd</th>\n",
       "      <th>remote_ratio</th>\n",
       "    </tr>\n",
       "  </thead>\n",
       "  <tbody>\n",
       "    <tr>\n",
       "      <th>count</th>\n",
       "      <td>13276.000000</td>\n",
       "      <td>1.327600e+04</td>\n",
       "      <td>13276.000000</td>\n",
       "      <td>13276.000000</td>\n",
       "    </tr>\n",
       "    <tr>\n",
       "      <th>mean</th>\n",
       "      <td>2023.557096</td>\n",
       "      <td>2.336964e+05</td>\n",
       "      <td>142650.373682</td>\n",
       "      <td>28.547755</td>\n",
       "    </tr>\n",
       "    <tr>\n",
       "      <th>std</th>\n",
       "      <td>0.865132</td>\n",
       "      <td>6.783702e+06</td>\n",
       "      <td>65424.434329</td>\n",
       "      <td>44.438663</td>\n",
       "    </tr>\n",
       "    <tr>\n",
       "      <th>min</th>\n",
       "      <td>2020.000000</td>\n",
       "      <td>1.506100e+04</td>\n",
       "      <td>15061.000000</td>\n",
       "      <td>0.000000</td>\n",
       "    </tr>\n",
       "    <tr>\n",
       "      <th>25%</th>\n",
       "      <td>2023.000000</td>\n",
       "      <td>9.600000e+04</td>\n",
       "      <td>95800.000000</td>\n",
       "      <td>0.000000</td>\n",
       "    </tr>\n",
       "    <tr>\n",
       "      <th>50%</th>\n",
       "      <td>2024.000000</td>\n",
       "      <td>1.330000e+05</td>\n",
       "      <td>132145.000000</td>\n",
       "      <td>0.000000</td>\n",
       "    </tr>\n",
       "    <tr>\n",
       "      <th>75%</th>\n",
       "      <td>2024.000000</td>\n",
       "      <td>1.800000e+05</td>\n",
       "      <td>179431.000000</td>\n",
       "      <td>100.000000</td>\n",
       "    </tr>\n",
       "    <tr>\n",
       "      <th>max</th>\n",
       "      <td>2024.000000</td>\n",
       "      <td>6.000000e+08</td>\n",
       "      <td>720000.000000</td>\n",
       "      <td>100.000000</td>\n",
       "    </tr>\n",
       "  </tbody>\n",
       "</table>\n",
       "</div>"
      ],
      "text/plain": [
       "          work_year        salary  salary_in_usd  remote_ratio\n",
       "count  13276.000000  1.327600e+04   13276.000000  13276.000000\n",
       "mean    2023.557096  2.336964e+05  142650.373682     28.547755\n",
       "std        0.865132  6.783702e+06   65424.434329     44.438663\n",
       "min     2020.000000  1.506100e+04   15061.000000      0.000000\n",
       "25%     2023.000000  9.600000e+04   95800.000000      0.000000\n",
       "50%     2024.000000  1.330000e+05  132145.000000      0.000000\n",
       "75%     2024.000000  1.800000e+05  179431.000000    100.000000\n",
       "max     2024.000000  6.000000e+08  720000.000000    100.000000"
      ]
     },
     "metadata": {},
     "output_type": "display_data"
    },
    {
     "data": {
      "text/html": [
       "<div>\n",
       "<style scoped>\n",
       "    .dataframe tbody tr th:only-of-type {\n",
       "        vertical-align: middle;\n",
       "    }\n",
       "\n",
       "    .dataframe tbody tr th {\n",
       "        vertical-align: top;\n",
       "    }\n",
       "\n",
       "    .dataframe thead th {\n",
       "        text-align: right;\n",
       "    }\n",
       "</style>\n",
       "<table border=\"1\" class=\"dataframe\">\n",
       "  <thead>\n",
       "    <tr style=\"text-align: right;\">\n",
       "      <th></th>\n",
       "      <th>experience_level</th>\n",
       "      <th>employment_type</th>\n",
       "      <th>job_title</th>\n",
       "      <th>salary_currency</th>\n",
       "      <th>employee_residence</th>\n",
       "      <th>company_location</th>\n",
       "      <th>company_size</th>\n",
       "    </tr>\n",
       "  </thead>\n",
       "  <tbody>\n",
       "    <tr>\n",
       "      <th>count</th>\n",
       "      <td>13276</td>\n",
       "      <td>13276</td>\n",
       "      <td>13276</td>\n",
       "      <td>13276</td>\n",
       "      <td>13276</td>\n",
       "      <td>13276</td>\n",
       "      <td>13276</td>\n",
       "    </tr>\n",
       "    <tr>\n",
       "      <th>unique</th>\n",
       "      <td>4</td>\n",
       "      <td>4</td>\n",
       "      <td>254</td>\n",
       "      <td>22</td>\n",
       "      <td>79</td>\n",
       "      <td>77</td>\n",
       "      <td>3</td>\n",
       "    </tr>\n",
       "    <tr>\n",
       "      <th>top</th>\n",
       "      <td>SE</td>\n",
       "      <td>FT</td>\n",
       "      <td>Security Engineer</td>\n",
       "      <td>USD</td>\n",
       "      <td>US</td>\n",
       "      <td>US</td>\n",
       "      <td>M</td>\n",
       "    </tr>\n",
       "    <tr>\n",
       "      <th>freq</th>\n",
       "      <td>7161</td>\n",
       "      <td>13196</td>\n",
       "      <td>2970</td>\n",
       "      <td>12292</td>\n",
       "      <td>11544</td>\n",
       "      <td>11582</td>\n",
       "      <td>11872</td>\n",
       "    </tr>\n",
       "  </tbody>\n",
       "</table>\n",
       "</div>"
      ],
      "text/plain": [
       "       experience_level employment_type          job_title salary_currency  \\\n",
       "count             13276           13276              13276           13276   \n",
       "unique                4               4                254              22   \n",
       "top                  SE              FT  Security Engineer             USD   \n",
       "freq               7161           13196               2970           12292   \n",
       "\n",
       "       employee_residence company_location company_size  \n",
       "count               13276            13276        13276  \n",
       "unique                 79               77            3  \n",
       "top                    US               US            M  \n",
       "freq                11544            11582        11872  "
      ]
     },
     "metadata": {},
     "output_type": "display_data"
    }
   ],
   "source": [
    "display(df.describe())\n",
    "display(df.describe(include = 'object'))"
   ]
  },
  {
   "cell_type": "markdown",
   "id": "d198c559",
   "metadata": {
    "papermill": {
     "duration": 0.014518,
     "end_time": "2023-11-13T12:18:10.743733",
     "exception": false,
     "start_time": "2023-11-13T12:18:10.729215",
     "status": "completed"
    },
    "tags": []
   },
   "source": [
    "# The ratio of work experience and salary"
   ]
  },
  {
   "cell_type": "code",
   "execution_count": 9,
   "id": "863d8a41",
   "metadata": {
    "execution": {
     "iopub.execute_input": "2023-11-13T12:18:10.775568Z",
     "iopub.status.busy": "2023-11-13T12:18:10.774882Z",
     "iopub.status.idle": "2023-11-13T12:18:10.789957Z",
     "shell.execute_reply": "2023-11-13T12:18:10.788766Z"
    },
    "papermill": {
     "duration": 0.034066,
     "end_time": "2023-11-13T12:18:10.792782",
     "exception": false,
     "start_time": "2023-11-13T12:18:10.758716",
     "status": "completed"
    },
    "tags": []
   },
   "outputs": [
    {
     "data": {
      "text/html": [
       "<div>\n",
       "<style scoped>\n",
       "    .dataframe tbody tr th:only-of-type {\n",
       "        vertical-align: middle;\n",
       "    }\n",
       "\n",
       "    .dataframe tbody tr th {\n",
       "        vertical-align: top;\n",
       "    }\n",
       "\n",
       "    .dataframe thead th {\n",
       "        text-align: right;\n",
       "    }\n",
       "</style>\n",
       "<table border=\"1\" class=\"dataframe\">\n",
       "  <thead>\n",
       "    <tr style=\"text-align: right;\">\n",
       "      <th></th>\n",
       "      <th>work_year</th>\n",
       "      <th>salary_in_usd</th>\n",
       "      <th>experience_level</th>\n",
       "    </tr>\n",
       "  </thead>\n",
       "  <tbody>\n",
       "    <tr>\n",
       "      <th>0</th>\n",
       "      <td>2024</td>\n",
       "      <td>211000</td>\n",
       "      <td>MI</td>\n",
       "    </tr>\n",
       "    <tr>\n",
       "      <th>1</th>\n",
       "      <td>2024</td>\n",
       "      <td>142000</td>\n",
       "      <td>MI</td>\n",
       "    </tr>\n",
       "    <tr>\n",
       "      <th>2</th>\n",
       "      <td>2024</td>\n",
       "      <td>80521</td>\n",
       "      <td>MI</td>\n",
       "    </tr>\n",
       "    <tr>\n",
       "      <th>3</th>\n",
       "      <td>2024</td>\n",
       "      <td>65730</td>\n",
       "      <td>MI</td>\n",
       "    </tr>\n",
       "    <tr>\n",
       "      <th>4</th>\n",
       "      <td>2024</td>\n",
       "      <td>188400</td>\n",
       "      <td>MI</td>\n",
       "    </tr>\n",
       "    <tr>\n",
       "      <th>5</th>\n",
       "      <td>2024</td>\n",
       "      <td>125600</td>\n",
       "      <td>MI</td>\n",
       "    </tr>\n",
       "    <tr>\n",
       "      <th>6</th>\n",
       "      <td>2024</td>\n",
       "      <td>246400</td>\n",
       "      <td>MI</td>\n",
       "    </tr>\n",
       "    <tr>\n",
       "      <th>7</th>\n",
       "      <td>2024</td>\n",
       "      <td>117300</td>\n",
       "      <td>MI</td>\n",
       "    </tr>\n",
       "    <tr>\n",
       "      <th>8</th>\n",
       "      <td>2024</td>\n",
       "      <td>200200</td>\n",
       "      <td>MI</td>\n",
       "    </tr>\n",
       "    <tr>\n",
       "      <th>9</th>\n",
       "      <td>2024</td>\n",
       "      <td>190000</td>\n",
       "      <td>MI</td>\n",
       "    </tr>\n",
       "  </tbody>\n",
       "</table>\n",
       "</div>"
      ],
      "text/plain": [
       "   work_year  salary_in_usd experience_level\n",
       "0       2024         211000               MI\n",
       "1       2024         142000               MI\n",
       "2       2024          80521               MI\n",
       "3       2024          65730               MI\n",
       "4       2024         188400               MI\n",
       "5       2024         125600               MI\n",
       "6       2024         246400               MI\n",
       "7       2024         117300               MI\n",
       "8       2024         200200               MI\n",
       "9       2024         190000               MI"
      ]
     },
     "execution_count": 9,
     "metadata": {},
     "output_type": "execute_result"
    }
   ],
   "source": [
    "df_sub = df[['work_year', 'salary_in_usd', 'experience_level']].copy()\n",
    "df_sub.head(10)"
   ]
  },
  {
   "cell_type": "code",
   "execution_count": 10,
   "id": "073f7c9c",
   "metadata": {
    "execution": {
     "iopub.execute_input": "2023-11-13T12:18:10.825424Z",
     "iopub.status.busy": "2023-11-13T12:18:10.824615Z",
     "iopub.status.idle": "2023-11-13T12:18:10.841175Z",
     "shell.execute_reply": "2023-11-13T12:18:10.839953Z"
    },
    "papermill": {
     "duration": 0.035704,
     "end_time": "2023-11-13T12:18:10.843809",
     "exception": false,
     "start_time": "2023-11-13T12:18:10.808105",
     "status": "completed"
    },
    "tags": []
   },
   "outputs": [
    {
     "data": {
      "text/html": [
       "<div>\n",
       "<style scoped>\n",
       "    .dataframe tbody tr th:only-of-type {\n",
       "        vertical-align: middle;\n",
       "    }\n",
       "\n",
       "    .dataframe tbody tr th {\n",
       "        vertical-align: top;\n",
       "    }\n",
       "\n",
       "    .dataframe thead th {\n",
       "        text-align: right;\n",
       "    }\n",
       "</style>\n",
       "<table border=\"1\" class=\"dataframe\">\n",
       "  <thead>\n",
       "    <tr style=\"text-align: right;\">\n",
       "      <th></th>\n",
       "      <th>experience_level</th>\n",
       "      <th>salary_in_usd</th>\n",
       "    </tr>\n",
       "  </thead>\n",
       "  <tbody>\n",
       "    <tr>\n",
       "      <th>0</th>\n",
       "      <td>EN</td>\n",
       "      <td>97518.647552</td>\n",
       "    </tr>\n",
       "    <tr>\n",
       "      <th>1</th>\n",
       "      <td>EX</td>\n",
       "      <td>201395.871690</td>\n",
       "    </tr>\n",
       "    <tr>\n",
       "      <th>2</th>\n",
       "      <td>MI</td>\n",
       "      <td>125673.922985</td>\n",
       "    </tr>\n",
       "    <tr>\n",
       "      <th>3</th>\n",
       "      <td>SE</td>\n",
       "      <td>157577.557464</td>\n",
       "    </tr>\n",
       "  </tbody>\n",
       "</table>\n",
       "</div>"
      ],
      "text/plain": [
       "  experience_level  salary_in_usd\n",
       "0               EN   97518.647552\n",
       "1               EX  201395.871690\n",
       "2               MI  125673.922985\n",
       "3               SE  157577.557464"
      ]
     },
     "execution_count": 10,
     "metadata": {},
     "output_type": "execute_result"
    }
   ],
   "source": [
    "salary_exp = df_sub.groupby('experience_level')['salary_in_usd'].mean().reset_index()\n",
    "\n",
    "salary_exp.head(10)"
   ]
  },
  {
   "cell_type": "code",
   "execution_count": 11,
   "id": "9f6e1691",
   "metadata": {
    "execution": {
     "iopub.execute_input": "2023-11-13T12:18:10.877283Z",
     "iopub.status.busy": "2023-11-13T12:18:10.876864Z",
     "iopub.status.idle": "2023-11-13T12:18:11.370726Z",
     "shell.execute_reply": "2023-11-13T12:18:11.369365Z"
    },
    "papermill": {
     "duration": 0.513973,
     "end_time": "2023-11-13T12:18:11.373745",
     "exception": false,
     "start_time": "2023-11-13T12:18:10.859772",
     "status": "completed"
    },
    "tags": []
   },
   "outputs": [
    {
     "name": "stderr",
     "output_type": "stream",
     "text": [
      "/var/folders/yv/6k4tsllj3vbdbr_6ztp4hw8r0000gn/T/ipykernel_9346/1923038731.py:2: FutureWarning: \n",
      "\n",
      "Passing `palette` without assigning `hue` is deprecated and will be removed in v0.14.0. Assign the `x` variable to `hue` and set `legend=False` for the same effect.\n",
      "\n",
      "  sns.barplot(x = salary_exp['experience_level'], y = salary_exp['salary_in_usd'], palette = 'plasma')\n"
     ]
    },
    {
     "data": {
      "image/png": "[encoded data removed]",
      "text/plain": [
       "<Figure size 1200x800 with 1 Axes>"
      ]
     },
     "metadata": {},
     "output_type": "display_data"
    }
   ],
   "source": [
    "plt.figure(figsize = (12,8))\n",
    "sns.barplot(x = salary_exp['experience_level'], y = salary_exp['salary_in_usd'], palette = 'plasma')\n",
    "\n",
    "plt.title('Work experience & Salary in $ (mean)', fontweight = 'bold')\n",
    "plt.xlabel('Experience Level', fontweight='bold')\n",
    "plt.ylabel('Salary', fontweight='bold')\n",
    "\n",
    "plt.grid(True, axis = 'y', color = 'grey', alpha = 0.3)\n",
    "\n",
    "plt.tight_layout()\n",
    "plt.show()"
   ]
  },
  {
   "cell_type": "code",
   "execution_count": 12,
   "id": "e907e7cb",
   "metadata": {
    "execution": {
     "iopub.execute_input": "2023-11-13T12:18:11.408713Z",
     "iopub.status.busy": "2023-11-13T12:18:11.408270Z",
     "iopub.status.idle": "2023-11-13T12:18:11.420525Z",
     "shell.execute_reply": "2023-11-13T12:18:11.419350Z"
    },
    "papermill": {
     "duration": 0.033032,
     "end_time": "2023-11-13T12:18:11.423061",
     "exception": false,
     "start_time": "2023-11-13T12:18:11.390029",
     "status": "completed"
    },
    "tags": []
   },
   "outputs": [
    {
     "data": {
      "text/html": [
       "<div>\n",
       "<style scoped>\n",
       "    .dataframe tbody tr th:only-of-type {\n",
       "        vertical-align: middle;\n",
       "    }\n",
       "\n",
       "    .dataframe tbody tr th {\n",
       "        vertical-align: top;\n",
       "    }\n",
       "\n",
       "    .dataframe thead th {\n",
       "        text-align: right;\n",
       "    }\n",
       "</style>\n",
       "<table border=\"1\" class=\"dataframe\">\n",
       "  <thead>\n",
       "    <tr style=\"text-align: right;\">\n",
       "      <th></th>\n",
       "      <th>experience_level</th>\n",
       "      <th>salary_in_usd</th>\n",
       "    </tr>\n",
       "  </thead>\n",
       "  <tbody>\n",
       "    <tr>\n",
       "      <th>0</th>\n",
       "      <td>EN</td>\n",
       "      <td>97518.647552</td>\n",
       "    </tr>\n",
       "    <tr>\n",
       "      <th>1</th>\n",
       "      <td>EX</td>\n",
       "      <td>201395.871690</td>\n",
       "    </tr>\n",
       "    <tr>\n",
       "      <th>2</th>\n",
       "      <td>MI</td>\n",
       "      <td>125673.922985</td>\n",
       "    </tr>\n",
       "    <tr>\n",
       "      <th>3</th>\n",
       "      <td>SE</td>\n",
       "      <td>157577.557464</td>\n",
       "    </tr>\n",
       "  </tbody>\n",
       "</table>\n",
       "</div>"
      ],
      "text/plain": [
       "  experience_level  salary_in_usd\n",
       "0               EN   97518.647552\n",
       "1               EX  201395.871690\n",
       "2               MI  125673.922985\n",
       "3               SE  157577.557464"
      ]
     },
     "execution_count": 12,
     "metadata": {},
     "output_type": "execute_result"
    }
   ],
   "source": [
    "salary_exp"
   ]
  },
  {
   "cell_type": "code",
   "execution_count": 13,
   "id": "a42a7c92",
   "metadata": {
    "execution": {
     "iopub.execute_input": "2023-11-13T12:18:11.459607Z",
     "iopub.status.busy": "2023-11-13T12:18:11.458859Z",
     "iopub.status.idle": "2023-11-13T12:18:11.465781Z",
     "shell.execute_reply": "2023-11-13T12:18:11.464641Z"
    },
    "papermill": {
     "duration": 0.027199,
     "end_time": "2023-11-13T12:18:11.468172",
     "exception": false,
     "start_time": "2023-11-13T12:18:11.440973",
     "status": "completed"
    },
    "tags": []
   },
   "outputs": [],
   "source": [
    "from sklearn.preprocessing import LabelEncoder\n",
    "label_encoder = LabelEncoder()\n",
    "\n",
    "salary_exp['experience_level_encoded'] = label_encoder.fit_transform(salary_exp['experience_level'])"
   ]
  },
  {
   "cell_type": "code",
   "execution_count": 14,
   "id": "cb6984de",
   "metadata": {
    "execution": {
     "iopub.execute_input": "2023-11-13T12:18:11.569031Z",
     "iopub.status.busy": "2023-11-13T12:18:11.568403Z",
     "iopub.status.idle": "2023-11-13T12:18:12.013092Z",
     "shell.execute_reply": "2023-11-13T12:18:12.011847Z"
    },
    "papermill": {
     "duration": 0.466665,
     "end_time": "2023-11-13T12:18:12.015882",
     "exception": false,
     "start_time": "2023-11-13T12:18:11.549217",
     "status": "completed"
    },
    "tags": []
   },
   "outputs": [
    {
     "data": {
      "image/png": "[encoded data removed]",
      "text/plain": [
       "<Figure size 1200x800 with 2 Axes>"
      ]
     },
     "metadata": {},
     "output_type": "display_data"
    }
   ],
   "source": [
    "plt.figure(figsize = (12,8))\n",
    "sns.heatmap(salary_exp.corr(numeric_only = True), annot = True, cmap = 'crest')\n",
    "\n",
    "plt.tight_layout()\n",
    "plt.show()"
   ]
  },
  {
   "cell_type": "markdown",
   "id": "43c9455d",
   "metadata": {
    "papermill": {
     "duration": 0.016799,
     "end_time": "2023-11-13T12:18:12.049752",
     "exception": false,
     "start_time": "2023-11-13T12:18:12.032953",
     "status": "completed"
    },
    "tags": []
   },
   "source": [
    "The correlation value of **0.35** indicates that there is a moderately positive linear relationship between work experience and salary: with increasing experience, on average, there is an increase in salary."
   ]
  },
  {
   "cell_type": "markdown",
   "id": "66601adc",
   "metadata": {
    "papermill": {
     "duration": 0.016971,
     "end_time": "2023-11-13T12:18:12.083751",
     "exception": false,
     "start_time": "2023-11-13T12:18:12.066780",
     "status": "completed"
    },
    "tags": []
   },
   "source": [
    "# Forms of work"
   ]
  },
  {
   "cell_type": "code",
   "execution_count": 15,
   "id": "23aa9807",
   "metadata": {
    "execution": {
     "iopub.execute_input": "2023-11-13T12:18:12.120938Z",
     "iopub.status.busy": "2023-11-13T12:18:12.120497Z",
     "iopub.status.idle": "2023-11-13T12:18:12.137277Z",
     "shell.execute_reply": "2023-11-13T12:18:12.134343Z"
    },
    "papermill": {
     "duration": 0.038851,
     "end_time": "2023-11-13T12:18:12.140732",
     "exception": false,
     "start_time": "2023-11-13T12:18:12.101881",
     "status": "completed"
    },
    "tags": []
   },
   "outputs": [
    {
     "data": {
      "text/html": [
       "<div>\n",
       "<style scoped>\n",
       "    .dataframe tbody tr th:only-of-type {\n",
       "        vertical-align: middle;\n",
       "    }\n",
       "\n",
       "    .dataframe tbody tr th {\n",
       "        vertical-align: top;\n",
       "    }\n",
       "\n",
       "    .dataframe thead th {\n",
       "        text-align: right;\n",
       "    }\n",
       "</style>\n",
       "<table border=\"1\" class=\"dataframe\">\n",
       "  <thead>\n",
       "    <tr style=\"text-align: right;\">\n",
       "      <th></th>\n",
       "      <th>employment_type</th>\n",
       "      <th>job_title</th>\n",
       "      <th>remote_ratio</th>\n",
       "      <th>salary</th>\n",
       "    </tr>\n",
       "  </thead>\n",
       "  <tbody>\n",
       "    <tr>\n",
       "      <th>0</th>\n",
       "      <td>FT</td>\n",
       "      <td>Security Consultant</td>\n",
       "      <td>0</td>\n",
       "      <td>211000</td>\n",
       "    </tr>\n",
       "    <tr>\n",
       "      <th>1</th>\n",
       "      <td>FT</td>\n",
       "      <td>Security Consultant</td>\n",
       "      <td>0</td>\n",
       "      <td>142000</td>\n",
       "    </tr>\n",
       "    <tr>\n",
       "      <th>2</th>\n",
       "      <td>FT</td>\n",
       "      <td>Security Consultant</td>\n",
       "      <td>0</td>\n",
       "      <td>64417</td>\n",
       "    </tr>\n",
       "    <tr>\n",
       "      <th>3</th>\n",
       "      <td>FT</td>\n",
       "      <td>Security Consultant</td>\n",
       "      <td>0</td>\n",
       "      <td>52584</td>\n",
       "    </tr>\n",
       "    <tr>\n",
       "      <th>4</th>\n",
       "      <td>FT</td>\n",
       "      <td>Consultant</td>\n",
       "      <td>0</td>\n",
       "      <td>188400</td>\n",
       "    </tr>\n",
       "    <tr>\n",
       "      <th>5</th>\n",
       "      <td>FT</td>\n",
       "      <td>Consultant</td>\n",
       "      <td>0</td>\n",
       "      <td>125600</td>\n",
       "    </tr>\n",
       "    <tr>\n",
       "      <th>6</th>\n",
       "      <td>FT</td>\n",
       "      <td>Manager</td>\n",
       "      <td>0</td>\n",
       "      <td>246400</td>\n",
       "    </tr>\n",
       "    <tr>\n",
       "      <th>7</th>\n",
       "      <td>FT</td>\n",
       "      <td>Manager</td>\n",
       "      <td>0</td>\n",
       "      <td>117300</td>\n",
       "    </tr>\n",
       "    <tr>\n",
       "      <th>8</th>\n",
       "      <td>FT</td>\n",
       "      <td>Security Engineer</td>\n",
       "      <td>0</td>\n",
       "      <td>200200</td>\n",
       "    </tr>\n",
       "    <tr>\n",
       "      <th>9</th>\n",
       "      <td>FT</td>\n",
       "      <td>Security Engineer</td>\n",
       "      <td>0</td>\n",
       "      <td>190000</td>\n",
       "    </tr>\n",
       "  </tbody>\n",
       "</table>\n",
       "</div>"
      ],
      "text/plain": [
       "  employment_type            job_title  remote_ratio  salary\n",
       "0              FT  Security Consultant             0  211000\n",
       "1              FT  Security Consultant             0  142000\n",
       "2              FT  Security Consultant             0   64417\n",
       "3              FT  Security Consultant             0   52584\n",
       "4              FT           Consultant             0  188400\n",
       "5              FT           Consultant             0  125600\n",
       "6              FT              Manager             0  246400\n",
       "7              FT              Manager             0  117300\n",
       "8              FT    Security Engineer             0  200200\n",
       "9              FT    Security Engineer             0  190000"
      ]
     },
     "execution_count": 15,
     "metadata": {},
     "output_type": "execute_result"
    }
   ],
   "source": [
    "df_sub2 = df[['employment_type', 'job_title', 'remote_ratio', 'salary']].copy()\n",
    "df_sub2.head(10)"
   ]
  },
  {
   "cell_type": "code",
   "execution_count": 16,
   "id": "8c27c9e9",
   "metadata": {
    "execution": {
     "iopub.execute_input": "2023-11-13T12:18:12.177897Z",
     "iopub.status.busy": "2023-11-13T12:18:12.177504Z",
     "iopub.status.idle": "2023-11-13T12:18:12.420151Z",
     "shell.execute_reply": "2023-11-13T12:18:12.418492Z"
    },
    "papermill": {
     "duration": 0.266465,
     "end_time": "2023-11-13T12:18:12.424686",
     "exception": false,
     "start_time": "2023-11-13T12:18:12.158221",
     "status": "completed"
    },
    "tags": []
   },
   "outputs": [
    {
     "data": {
      "image/png": "[encoded data removed]",
      "text/plain": [
       "<Figure size 800x800 with 1 Axes>"
      ]
     },
     "metadata": {},
     "output_type": "display_data"
    }
   ],
   "source": [
    "employment_type_counts = df_sub2['employment_type'].value_counts()\n",
    "\n",
    "# Plotting the pie chart\n",
    "plt.figure(figsize=(8, 8))\n",
    "plt.pie(employment_type_counts, labels=employment_type_counts.index, autopct='%1.1f%%', startangle=90, colors=['#66b3ff', '#99ff99', '#ffcc99'])\n",
    "plt.title('Distribution of Employment Types', fontweight='bold')\n",
    "\n",
    "plt.axis('equal')\n",
    "\n",
    "plt.show()\n"
   ]
  },
  {
   "cell_type": "markdown",
   "id": "ae9f0745",
   "metadata": {
    "papermill": {
     "duration": 0.018726,
     "end_time": "2023-11-13T12:18:12.465371",
     "exception": false,
     "start_time": "2023-11-13T12:18:12.446645",
     "status": "completed"
    },
    "tags": []
   },
   "source": [
    "* **FT** (full-time): Full-time is the most common employment type, with 3068 cases in your dataset.\n",
    "\n",
    "* **PT** (part-time): Part-time employment is represented in 15 cases. This may indicate that part-time employment is less common than full-time employment.\n",
    "\n",
    "* **CT** (contract work): Contract work is presented in 12 cases. This may indicate that contract work also has its place in the employment structure.\n",
    "\n",
    "* **FL** (freelance): Freelance work is presented in 4 cases. This may indicate that freelance work is less common in this dataset, but still represented."
   ]
  },
  {
   "cell_type": "code",
   "execution_count": 17,
   "id": "e33b3660",
   "metadata": {
    "execution": {
     "iopub.execute_input": "2023-11-13T12:18:12.503796Z",
     "iopub.status.busy": "2023-11-13T12:18:12.503146Z",
     "iopub.status.idle": "2023-11-13T12:18:12.997494Z",
     "shell.execute_reply": "2023-11-13T12:18:12.996320Z"
    },
    "papermill": {
     "duration": 0.516655,
     "end_time": "2023-11-13T12:18:13.000419",
     "exception": false,
     "start_time": "2023-11-13T12:18:12.483764",
     "status": "completed"
    },
    "tags": []
   },
   "outputs": [
    {
     "data": {
      "image/png": "[encoded data removed]",
      "text/plain": [
       "<Figure size 1200x800 with 2 Axes>"
      ]
     },
     "metadata": {},
     "output_type": "display_data"
    }
   ],
   "source": [
    "df_sub2['employment_type_encoded'] = label_encoder.fit_transform(df_sub2['employment_type'])\n",
    "df_sub2['job_title_encoded'] = label_encoder.fit_transform(df_sub2['job_title'])\n",
    "\n",
    "plt.figure(figsize = (12,8))\n",
    "sns.heatmap(df_sub2.corr(numeric_only = True), annot = True, cmap = 'crest')\n",
    "\n",
    "plt.tight_layout()\n",
    "plt.show()"
   ]
  },
  {
   "cell_type": "markdown",
   "id": "6ba0e6d8",
   "metadata": {
    "papermill": {
     "duration": 0.020213,
     "end_time": "2023-11-13T12:18:13.040352",
     "exception": false,
     "start_time": "2023-11-13T12:18:13.020139",
     "status": "completed"
    },
    "tags": []
   },
   "source": [
    "According to the correlation matrix, you can tell that the relationship between remote work, salary, type of employment, and coded position is rather weak in your data. This may indicate that these characteristics may be independent of each other or have other non-linear relationships."
   ]
  },
  {
   "cell_type": "markdown",
   "id": "e29a0ce4",
   "metadata": {
    "papermill": {
     "duration": 0.01898,
     "end_time": "2023-11-13T12:18:13.078833",
     "exception": false,
     "start_time": "2023-11-13T12:18:13.059853",
     "status": "completed"
    },
    "tags": []
   },
   "source": [
    "# Location and remote work"
   ]
  },
  {
   "cell_type": "code",
   "execution_count": 18,
   "id": "07f1a85c",
   "metadata": {
    "execution": {
     "iopub.execute_input": "2023-11-13T12:18:13.122690Z",
     "iopub.status.busy": "2023-11-13T12:18:13.121743Z",
     "iopub.status.idle": "2023-11-13T12:18:13.139614Z",
     "shell.execute_reply": "2023-11-13T12:18:13.138423Z"
    },
    "papermill": {
     "duration": 0.045893,
     "end_time": "2023-11-13T12:18:13.143497",
     "exception": false,
     "start_time": "2023-11-13T12:18:13.097604",
     "status": "completed"
    },
    "tags": []
   },
   "outputs": [
    {
     "data": {
      "text/html": [
       "<div>\n",
       "<style scoped>\n",
       "    .dataframe tbody tr th:only-of-type {\n",
       "        vertical-align: middle;\n",
       "    }\n",
       "\n",
       "    .dataframe tbody tr th {\n",
       "        vertical-align: top;\n",
       "    }\n",
       "\n",
       "    .dataframe thead th {\n",
       "        text-align: right;\n",
       "    }\n",
       "</style>\n",
       "<table border=\"1\" class=\"dataframe\">\n",
       "  <thead>\n",
       "    <tr style=\"text-align: right;\">\n",
       "      <th></th>\n",
       "      <th>company_location</th>\n",
       "      <th>remote_ratio</th>\n",
       "      <th>salary_in_usd</th>\n",
       "    </tr>\n",
       "  </thead>\n",
       "  <tbody>\n",
       "    <tr>\n",
       "      <th>0</th>\n",
       "      <td>US</td>\n",
       "      <td>0</td>\n",
       "      <td>211000</td>\n",
       "    </tr>\n",
       "    <tr>\n",
       "      <th>1</th>\n",
       "      <td>US</td>\n",
       "      <td>0</td>\n",
       "      <td>142000</td>\n",
       "    </tr>\n",
       "    <tr>\n",
       "      <th>2</th>\n",
       "      <td>GB</td>\n",
       "      <td>0</td>\n",
       "      <td>80521</td>\n",
       "    </tr>\n",
       "    <tr>\n",
       "      <th>3</th>\n",
       "      <td>GB</td>\n",
       "      <td>0</td>\n",
       "      <td>65730</td>\n",
       "    </tr>\n",
       "    <tr>\n",
       "      <th>4</th>\n",
       "      <td>US</td>\n",
       "      <td>0</td>\n",
       "      <td>188400</td>\n",
       "    </tr>\n",
       "    <tr>\n",
       "      <th>5</th>\n",
       "      <td>US</td>\n",
       "      <td>0</td>\n",
       "      <td>125600</td>\n",
       "    </tr>\n",
       "    <tr>\n",
       "      <th>6</th>\n",
       "      <td>US</td>\n",
       "      <td>0</td>\n",
       "      <td>246400</td>\n",
       "    </tr>\n",
       "    <tr>\n",
       "      <th>7</th>\n",
       "      <td>US</td>\n",
       "      <td>0</td>\n",
       "      <td>117300</td>\n",
       "    </tr>\n",
       "    <tr>\n",
       "      <th>8</th>\n",
       "      <td>US</td>\n",
       "      <td>0</td>\n",
       "      <td>200200</td>\n",
       "    </tr>\n",
       "    <tr>\n",
       "      <th>9</th>\n",
       "      <td>US</td>\n",
       "      <td>0</td>\n",
       "      <td>190000</td>\n",
       "    </tr>\n",
       "  </tbody>\n",
       "</table>\n",
       "</div>"
      ],
      "text/plain": [
       "  company_location  remote_ratio  salary_in_usd\n",
       "0               US             0         211000\n",
       "1               US             0         142000\n",
       "2               GB             0          80521\n",
       "3               GB             0          65730\n",
       "4               US             0         188400\n",
       "5               US             0         125600\n",
       "6               US             0         246400\n",
       "7               US             0         117300\n",
       "8               US             0         200200\n",
       "9               US             0         190000"
      ]
     },
     "execution_count": 18,
     "metadata": {},
     "output_type": "execute_result"
    }
   ],
   "source": [
    "df_sub3 = df[['company_location', 'remote_ratio', 'salary_in_usd']].copy()\n",
    "\n",
    "df_sub3.head(10)"
   ]
  },
  {
   "cell_type": "code",
   "execution_count": 19,
   "id": "938e4843",
   "metadata": {
    "execution": {
     "iopub.execute_input": "2023-11-13T12:18:13.193072Z",
     "iopub.status.busy": "2023-11-13T12:18:13.191621Z",
     "iopub.status.idle": "2023-11-13T12:18:13.662128Z",
     "shell.execute_reply": "2023-11-13T12:18:13.660726Z"
    },
    "papermill": {
     "duration": 0.49695,
     "end_time": "2023-11-13T12:18:13.665051",
     "exception": false,
     "start_time": "2023-11-13T12:18:13.168101",
     "status": "completed"
    },
    "tags": []
   },
   "outputs": [
    {
     "data": {
      "image/png": "[encoded data removed]",
      "text/plain": [
       "<Figure size 640x480 with 1 Axes>"
      ]
     },
     "metadata": {},
     "output_type": "display_data"
    }
   ],
   "source": [
    "sns.histplot(df_sub3['remote_ratio'], kde = True, bins = 30)\n",
    "\n",
    "plt.show()"
   ]
  },
  {
   "cell_type": "code",
   "execution_count": 20,
   "id": "291a9f69",
   "metadata": {
    "execution": {
     "iopub.execute_input": "2023-11-13T12:18:13.707571Z",
     "iopub.status.busy": "2023-11-13T12:18:13.706116Z",
     "iopub.status.idle": "2023-11-13T12:18:14.106180Z",
     "shell.execute_reply": "2023-11-13T12:18:14.104891Z"
    },
    "papermill": {
     "duration": 0.424234,
     "end_time": "2023-11-13T12:18:14.109290",
     "exception": false,
     "start_time": "2023-11-13T12:18:13.685056",
     "status": "completed"
    },
    "tags": []
   },
   "outputs": [
    {
     "name": "stderr",
     "output_type": "stream",
     "text": [
      "/var/folders/yv/6k4tsllj3vbdbr_6ztp4hw8r0000gn/T/ipykernel_9346/3050009184.py:4: FutureWarning: \n",
      "\n",
      "Passing `palette` without assigning `hue` is deprecated and will be removed in v0.14.0. Assign the `x` variable to `hue` and set `legend=False` for the same effect.\n",
      "\n",
      "  sns.barplot(x = rem_rat_salaty.index, y = rem_rat_salaty, palette = 'viridis')\n"
     ]
    },
    {
     "data": {
      "image/png": "[encoded data removed]",
      "text/plain": [
       "<Figure size 1200x800 with 1 Axes>"
      ]
     },
     "metadata": {},
     "output_type": "display_data"
    }
   ],
   "source": [
    "rem_rat_salaty = df_sub3.groupby('remote_ratio')['salary_in_usd'].mean()\n",
    "\n",
    "plt.figure(figsize = (12,8))\n",
    "sns.barplot(x = rem_rat_salaty.index, y = rem_rat_salaty, palette = 'viridis')\n",
    "\n",
    "plt.title('Salary dependence on remote_ratio', fontweight = 'bold')\n",
    "plt.ylabel('Salary', fontweight = 'bold')\n",
    "plt.xlabel('Remote Ratio', fontweight = 'bold')\n",
    "\n",
    "plt.grid(True, axis = 'y', color = 'grey', alpha = 0.3)\n",
    "\n",
    "plt.tight_layout()\n",
    "plt.show()"
   ]
  },
  {
   "cell_type": "code",
   "execution_count": 21,
   "id": "c7ff7858",
   "metadata": {
    "execution": {
     "iopub.execute_input": "2023-11-13T12:18:14.152698Z",
     "iopub.status.busy": "2023-11-13T12:18:14.152234Z",
     "iopub.status.idle": "2023-11-13T12:18:14.498293Z",
     "shell.execute_reply": "2023-11-13T12:18:14.496509Z"
    },
    "papermill": {
     "duration": 0.371264,
     "end_time": "2023-11-13T12:18:14.501413",
     "exception": false,
     "start_time": "2023-11-13T12:18:14.130149",
     "status": "completed"
    },
    "tags": []
   },
   "outputs": [
    {
     "data": {
      "image/png": "[encoded data removed]",
      "text/plain": [
       "<Figure size 1200x800 with 2 Axes>"
      ]
     },
     "metadata": {},
     "output_type": "display_data"
    }
   ],
   "source": [
    "df_sub3['company_location_encoded'] = label_encoder.fit_transform(df_sub3['company_location'])\n",
    "\n",
    "plt.figure(figsize = (12,8))\n",
    "sns.heatmap(df_sub3.corr(numeric_only = True), annot = True, cmap = 'crest')\n",
    "\n",
    "plt.tight_layout()\n",
    "plt.show()"
   ]
  },
  {
   "cell_type": "markdown",
   "id": "afa9cef8",
   "metadata": {
    "papermill": {
     "duration": 0.02066,
     "end_time": "2023-11-13T12:18:14.542601",
     "exception": false,
     "start_time": "2023-11-13T12:18:14.521941",
     "status": "completed"
    },
    "tags": []
   },
   "source": [
    "According to the correlation matrix, the relationship between remote work, salary, and company location is rather weak. This may indicate that these characteristics may be independent of each other or have other non-linear relationships."
   ]
  },
  {
   "cell_type": "markdown",
   "id": "0dfd264d",
   "metadata": {
    "papermill": {
     "duration": 0.020227,
     "end_time": "2023-11-13T12:18:14.583553",
     "exception": false,
     "start_time": "2023-11-13T12:18:14.563326",
     "status": "completed"
    },
    "tags": []
   },
   "source": [
    "# Overall correlation"
   ]
  },
  {
   "cell_type": "code",
   "execution_count": 22,
   "id": "bd00b939",
   "metadata": {
    "execution": {
     "iopub.execute_input": "2023-11-13T12:18:14.626961Z",
     "iopub.status.busy": "2023-11-13T12:18:14.626578Z",
     "iopub.status.idle": "2023-11-13T12:18:14.645848Z",
     "shell.execute_reply": "2023-11-13T12:18:14.644677Z"
    },
    "papermill": {
     "duration": 0.043647,
     "end_time": "2023-11-13T12:18:14.648387",
     "exception": false,
     "start_time": "2023-11-13T12:18:14.604740",
     "status": "completed"
    },
    "tags": []
   },
   "outputs": [
    {
     "data": {
      "text/html": [
       "<div>\n",
       "<style scoped>\n",
       "    .dataframe tbody tr th:only-of-type {\n",
       "        vertical-align: middle;\n",
       "    }\n",
       "\n",
       "    .dataframe tbody tr th {\n",
       "        vertical-align: top;\n",
       "    }\n",
       "\n",
       "    .dataframe thead th {\n",
       "        text-align: right;\n",
       "    }\n",
       "</style>\n",
       "<table border=\"1\" class=\"dataframe\">\n",
       "  <thead>\n",
       "    <tr style=\"text-align: right;\">\n",
       "      <th></th>\n",
       "      <th>work_year</th>\n",
       "      <th>experience_level</th>\n",
       "      <th>employment_type</th>\n",
       "      <th>job_title</th>\n",
       "      <th>salary</th>\n",
       "      <th>salary_currency</th>\n",
       "      <th>salary_in_usd</th>\n",
       "      <th>employee_residence</th>\n",
       "      <th>remote_ratio</th>\n",
       "      <th>company_location</th>\n",
       "      <th>company_size</th>\n",
       "    </tr>\n",
       "  </thead>\n",
       "  <tbody>\n",
       "    <tr>\n",
       "      <th>0</th>\n",
       "      <td>2024</td>\n",
       "      <td>MI</td>\n",
       "      <td>FT</td>\n",
       "      <td>Security Consultant</td>\n",
       "      <td>211000</td>\n",
       "      <td>USD</td>\n",
       "      <td>211000</td>\n",
       "      <td>US</td>\n",
       "      <td>0</td>\n",
       "      <td>US</td>\n",
       "      <td>M</td>\n",
       "    </tr>\n",
       "    <tr>\n",
       "      <th>1</th>\n",
       "      <td>2024</td>\n",
       "      <td>MI</td>\n",
       "      <td>FT</td>\n",
       "      <td>Security Consultant</td>\n",
       "      <td>142000</td>\n",
       "      <td>USD</td>\n",
       "      <td>142000</td>\n",
       "      <td>US</td>\n",
       "      <td>0</td>\n",
       "      <td>US</td>\n",
       "      <td>M</td>\n",
       "    </tr>\n",
       "    <tr>\n",
       "      <th>2</th>\n",
       "      <td>2024</td>\n",
       "      <td>MI</td>\n",
       "      <td>FT</td>\n",
       "      <td>Security Consultant</td>\n",
       "      <td>64417</td>\n",
       "      <td>GBP</td>\n",
       "      <td>80521</td>\n",
       "      <td>GB</td>\n",
       "      <td>0</td>\n",
       "      <td>GB</td>\n",
       "      <td>M</td>\n",
       "    </tr>\n",
       "    <tr>\n",
       "      <th>3</th>\n",
       "      <td>2024</td>\n",
       "      <td>MI</td>\n",
       "      <td>FT</td>\n",
       "      <td>Security Consultant</td>\n",
       "      <td>52584</td>\n",
       "      <td>GBP</td>\n",
       "      <td>65730</td>\n",
       "      <td>GB</td>\n",
       "      <td>0</td>\n",
       "      <td>GB</td>\n",
       "      <td>M</td>\n",
       "    </tr>\n",
       "    <tr>\n",
       "      <th>4</th>\n",
       "      <td>2024</td>\n",
       "      <td>MI</td>\n",
       "      <td>FT</td>\n",
       "      <td>Consultant</td>\n",
       "      <td>188400</td>\n",
       "      <td>USD</td>\n",
       "      <td>188400</td>\n",
       "      <td>US</td>\n",
       "      <td>0</td>\n",
       "      <td>US</td>\n",
       "      <td>M</td>\n",
       "    </tr>\n",
       "    <tr>\n",
       "      <th>5</th>\n",
       "      <td>2024</td>\n",
       "      <td>MI</td>\n",
       "      <td>FT</td>\n",
       "      <td>Consultant</td>\n",
       "      <td>125600</td>\n",
       "      <td>USD</td>\n",
       "      <td>125600</td>\n",
       "      <td>US</td>\n",
       "      <td>0</td>\n",
       "      <td>US</td>\n",
       "      <td>M</td>\n",
       "    </tr>\n",
       "    <tr>\n",
       "      <th>6</th>\n",
       "      <td>2024</td>\n",
       "      <td>MI</td>\n",
       "      <td>FT</td>\n",
       "      <td>Manager</td>\n",
       "      <td>246400</td>\n",
       "      <td>USD</td>\n",
       "      <td>246400</td>\n",
       "      <td>US</td>\n",
       "      <td>0</td>\n",
       "      <td>US</td>\n",
       "      <td>M</td>\n",
       "    </tr>\n",
       "    <tr>\n",
       "      <th>7</th>\n",
       "      <td>2024</td>\n",
       "      <td>MI</td>\n",
       "      <td>FT</td>\n",
       "      <td>Manager</td>\n",
       "      <td>117300</td>\n",
       "      <td>USD</td>\n",
       "      <td>117300</td>\n",
       "      <td>US</td>\n",
       "      <td>0</td>\n",
       "      <td>US</td>\n",
       "      <td>M</td>\n",
       "    </tr>\n",
       "    <tr>\n",
       "      <th>8</th>\n",
       "      <td>2024</td>\n",
       "      <td>MI</td>\n",
       "      <td>FT</td>\n",
       "      <td>Security Engineer</td>\n",
       "      <td>200200</td>\n",
       "      <td>USD</td>\n",
       "      <td>200200</td>\n",
       "      <td>US</td>\n",
       "      <td>0</td>\n",
       "      <td>US</td>\n",
       "      <td>M</td>\n",
       "    </tr>\n",
       "    <tr>\n",
       "      <th>9</th>\n",
       "      <td>2024</td>\n",
       "      <td>MI</td>\n",
       "      <td>FT</td>\n",
       "      <td>Security Engineer</td>\n",
       "      <td>190000</td>\n",
       "      <td>USD</td>\n",
       "      <td>190000</td>\n",
       "      <td>US</td>\n",
       "      <td>0</td>\n",
       "      <td>US</td>\n",
       "      <td>M</td>\n",
       "    </tr>\n",
       "  </tbody>\n",
       "</table>\n",
       "</div>"
      ],
      "text/plain": [
       "   work_year experience_level employment_type            job_title  salary  \\\n",
       "0       2024               MI              FT  Security Consultant  211000   \n",
       "1       2024               MI              FT  Security Consultant  142000   \n",
       "2       2024               MI              FT  Security Consultant   64417   \n",
       "3       2024               MI              FT  Security Consultant   52584   \n",
       "4       2024               MI              FT           Consultant  188400   \n",
       "5       2024               MI              FT           Consultant  125600   \n",
       "6       2024               MI              FT              Manager  246400   \n",
       "7       2024               MI              FT              Manager  117300   \n",
       "8       2024               MI              FT    Security Engineer  200200   \n",
       "9       2024               MI              FT    Security Engineer  190000   \n",
       "\n",
       "  salary_currency  salary_in_usd employee_residence  remote_ratio  \\\n",
       "0             USD         211000                 US             0   \n",
       "1             USD         142000                 US             0   \n",
       "2             GBP          80521                 GB             0   \n",
       "3             GBP          65730                 GB             0   \n",
       "4             USD         188400                 US             0   \n",
       "5             USD         125600                 US             0   \n",
       "6             USD         246400                 US             0   \n",
       "7             USD         117300                 US             0   \n",
       "8             USD         200200                 US             0   \n",
       "9             USD         190000                 US             0   \n",
       "\n",
       "  company_location company_size  \n",
       "0               US            M  \n",
       "1               US            M  \n",
       "2               GB            M  \n",
       "3               GB            M  \n",
       "4               US            M  \n",
       "5               US            M  \n",
       "6               US            M  \n",
       "7               US            M  \n",
       "8               US            M  \n",
       "9               US            M  "
      ]
     },
     "execution_count": 22,
     "metadata": {},
     "output_type": "execute_result"
    }
   ],
   "source": [
    "df.head(10)"
   ]
  },
  {
   "cell_type": "code",
   "execution_count": 23,
   "id": "d617dc8b",
   "metadata": {
    "execution": {
     "iopub.execute_input": "2023-11-13T12:18:14.691701Z",
     "iopub.status.busy": "2023-11-13T12:18:14.691278Z",
     "iopub.status.idle": "2023-11-13T12:18:14.709261Z",
     "shell.execute_reply": "2023-11-13T12:18:14.708357Z"
    },
    "papermill": {
     "duration": 0.042727,
     "end_time": "2023-11-13T12:18:14.711877",
     "exception": false,
     "start_time": "2023-11-13T12:18:14.669150",
     "status": "completed"
    },
    "tags": []
   },
   "outputs": [],
   "source": [
    "df_enc = df.copy()\n",
    "\n",
    "df_enc['job_title'] = label_encoder.fit_transform(df['job_title'])\n",
    "\n",
    "df_enc['experience_level'] = label_encoder.fit_transform(df['experience_level'])\n",
    "\n",
    "df_enc['employment_type'] = label_encoder.fit_transform(df['employment_type'])\n",
    "\n",
    "df_enc['salary_currency'] = label_encoder.fit_transform(df['salary_currency'])\n",
    "df_enc['employee_residence'] = label_encoder.fit_transform(df['employee_residence'])\n",
    "df_enc['company_location'] = label_encoder.fit_transform(df['company_location'])\n",
    "\n",
    "df_enc['company_size'] = label_encoder.fit_transform(df['company_size'])"
   ]
  },
  {
   "cell_type": "code",
   "execution_count": 24,
   "id": "239e863c",
   "metadata": {
    "execution": {
     "iopub.execute_input": "2023-11-13T12:18:14.755373Z",
     "iopub.status.busy": "2023-11-13T12:18:14.754929Z",
     "iopub.status.idle": "2023-11-13T12:18:14.761902Z",
     "shell.execute_reply": "2023-11-13T12:18:14.761003Z"
    },
    "papermill": {
     "duration": 0.031606,
     "end_time": "2023-11-13T12:18:14.764307",
     "exception": false,
     "start_time": "2023-11-13T12:18:14.732701",
     "status": "completed"
    },
    "tags": []
   },
   "outputs": [],
   "source": [
    "correlation = df_enc.corr()"
   ]
  },
  {
   "cell_type": "code",
   "execution_count": 25,
   "id": "62850bc6",
   "metadata": {
    "execution": {
     "iopub.execute_input": "2023-11-13T12:18:14.808899Z",
     "iopub.status.busy": "2023-11-13T12:18:14.808473Z",
     "iopub.status.idle": "2023-11-13T12:18:15.580047Z",
     "shell.execute_reply": "2023-11-13T12:18:15.578825Z"
    },
    "papermill": {
     "duration": 0.796519,
     "end_time": "2023-11-13T12:18:15.582440",
     "exception": false,
     "start_time": "2023-11-13T12:18:14.785921",
     "status": "completed"
    },
    "tags": []
   },
   "outputs": [
    {
     "data": {
      "image/png": "[encoded data removed]",
      "text/plain": [
       "<Figure size 1200x800 with 2 Axes>"
      ]
     },
     "metadata": {},
     "output_type": "display_data"
    }
   ],
   "source": [
    "plt.figure(figsize = (12,8))\n",
    "sns.heatmap(correlation, annot = True, cmap = 'crest')\n",
    "\n",
    "plt.tight_layout()\n",
    "plt.show()"
   ]
  },
  {
   "cell_type": "code",
   "execution_count": 26,
   "id": "34770e97",
   "metadata": {
    "execution": {
     "iopub.execute_input": "2023-11-13T12:18:15.634542Z",
     "iopub.status.busy": "2023-11-13T12:18:15.632948Z",
     "iopub.status.idle": "2023-11-13T12:18:15.655805Z",
     "shell.execute_reply": "2023-11-13T12:18:15.654544Z"
    },
    "papermill": {
     "duration": 0.051455,
     "end_time": "2023-11-13T12:18:15.658991",
     "exception": false,
     "start_time": "2023-11-13T12:18:15.607536",
     "status": "completed"
    },
    "tags": []
   },
   "outputs": [
    {
     "data": {
      "text/html": [
       "<div>\n",
       "<style scoped>\n",
       "    .dataframe tbody tr th:only-of-type {\n",
       "        vertical-align: middle;\n",
       "    }\n",
       "\n",
       "    .dataframe tbody tr th {\n",
       "        vertical-align: top;\n",
       "    }\n",
       "\n",
       "    .dataframe thead th {\n",
       "        text-align: right;\n",
       "    }\n",
       "</style>\n",
       "<table border=\"1\" class=\"dataframe\">\n",
       "  <thead>\n",
       "    <tr style=\"text-align: right;\">\n",
       "      <th></th>\n",
       "      <th>work_year</th>\n",
       "      <th>experience_level</th>\n",
       "      <th>employment_type</th>\n",
       "      <th>job_title</th>\n",
       "      <th>salary</th>\n",
       "      <th>salary_currency</th>\n",
       "      <th>salary_in_usd</th>\n",
       "      <th>employee_residence</th>\n",
       "      <th>remote_ratio</th>\n",
       "      <th>company_location</th>\n",
       "      <th>company_size</th>\n",
       "    </tr>\n",
       "  </thead>\n",
       "  <tbody>\n",
       "    <tr>\n",
       "      <th>work_year</th>\n",
       "      <td>1.000000</td>\n",
       "      <td>0.044315</td>\n",
       "      <td>0.027263</td>\n",
       "      <td>0.178256</td>\n",
       "      <td>-0.015083</td>\n",
       "      <td>0.236286</td>\n",
       "      <td>0.103950</td>\n",
       "      <td>0.148409</td>\n",
       "      <td>-0.346694</td>\n",
       "      <td>0.132956</td>\n",
       "      <td>0.479525</td>\n",
       "    </tr>\n",
       "    <tr>\n",
       "      <th>experience_level</th>\n",
       "      <td>0.044315</td>\n",
       "      <td>1.000000</td>\n",
       "      <td>-0.020425</td>\n",
       "      <td>0.120954</td>\n",
       "      <td>0.010902</td>\n",
       "      <td>0.084069</td>\n",
       "      <td>0.247973</td>\n",
       "      <td>0.049898</td>\n",
       "      <td>0.021562</td>\n",
       "      <td>0.050617</td>\n",
       "      <td>0.043889</td>\n",
       "    </tr>\n",
       "    <tr>\n",
       "      <th>employment_type</th>\n",
       "      <td>0.027263</td>\n",
       "      <td>-0.020425</td>\n",
       "      <td>1.000000</td>\n",
       "      <td>0.014496</td>\n",
       "      <td>-0.000076</td>\n",
       "      <td>0.010126</td>\n",
       "      <td>-0.020565</td>\n",
       "      <td>0.004371</td>\n",
       "      <td>-0.014494</td>\n",
       "      <td>0.005443</td>\n",
       "      <td>0.003881</td>\n",
       "    </tr>\n",
       "    <tr>\n",
       "      <th>job_title</th>\n",
       "      <td>0.178256</td>\n",
       "      <td>0.120954</td>\n",
       "      <td>0.014496</td>\n",
       "      <td>1.000000</td>\n",
       "      <td>-0.010669</td>\n",
       "      <td>0.098147</td>\n",
       "      <td>0.117071</td>\n",
       "      <td>0.062542</td>\n",
       "      <td>-0.063712</td>\n",
       "      <td>0.057921</td>\n",
       "      <td>0.155619</td>\n",
       "    </tr>\n",
       "    <tr>\n",
       "      <th>salary</th>\n",
       "      <td>-0.015083</td>\n",
       "      <td>0.010902</td>\n",
       "      <td>-0.000076</td>\n",
       "      <td>-0.010669</td>\n",
       "      <td>1.000000</td>\n",
       "      <td>-0.033163</td>\n",
       "      <td>-0.010931</td>\n",
       "      <td>-0.024177</td>\n",
       "      <td>0.013022</td>\n",
       "      <td>-0.024836</td>\n",
       "      <td>-0.037579</td>\n",
       "    </tr>\n",
       "    <tr>\n",
       "      <th>salary_currency</th>\n",
       "      <td>0.236286</td>\n",
       "      <td>0.084069</td>\n",
       "      <td>0.010126</td>\n",
       "      <td>0.098147</td>\n",
       "      <td>-0.033163</td>\n",
       "      <td>1.000000</td>\n",
       "      <td>0.264265</td>\n",
       "      <td>0.609955</td>\n",
       "      <td>-0.105842</td>\n",
       "      <td>0.591427</td>\n",
       "      <td>0.150114</td>\n",
       "    </tr>\n",
       "    <tr>\n",
       "      <th>salary_in_usd</th>\n",
       "      <td>0.103950</td>\n",
       "      <td>0.247973</td>\n",
       "      <td>-0.020565</td>\n",
       "      <td>0.117071</td>\n",
       "      <td>-0.010931</td>\n",
       "      <td>0.264265</td>\n",
       "      <td>1.000000</td>\n",
       "      <td>0.202987</td>\n",
       "      <td>0.000443</td>\n",
       "      <td>0.205049</td>\n",
       "      <td>0.044818</td>\n",
       "    </tr>\n",
       "    <tr>\n",
       "      <th>employee_residence</th>\n",
       "      <td>0.148409</td>\n",
       "      <td>0.049898</td>\n",
       "      <td>0.004371</td>\n",
       "      <td>0.062542</td>\n",
       "      <td>-0.024177</td>\n",
       "      <td>0.609955</td>\n",
       "      <td>0.202987</td>\n",
       "      <td>1.000000</td>\n",
       "      <td>-0.096864</td>\n",
       "      <td>0.979427</td>\n",
       "      <td>0.076153</td>\n",
       "    </tr>\n",
       "    <tr>\n",
       "      <th>remote_ratio</th>\n",
       "      <td>-0.346694</td>\n",
       "      <td>0.021562</td>\n",
       "      <td>-0.014494</td>\n",
       "      <td>-0.063712</td>\n",
       "      <td>0.013022</td>\n",
       "      <td>-0.105842</td>\n",
       "      <td>0.000443</td>\n",
       "      <td>-0.096864</td>\n",
       "      <td>1.000000</td>\n",
       "      <td>-0.086042</td>\n",
       "      <td>-0.209162</td>\n",
       "    </tr>\n",
       "    <tr>\n",
       "      <th>company_location</th>\n",
       "      <td>0.132956</td>\n",
       "      <td>0.050617</td>\n",
       "      <td>0.005443</td>\n",
       "      <td>0.057921</td>\n",
       "      <td>-0.024836</td>\n",
       "      <td>0.591427</td>\n",
       "      <td>0.205049</td>\n",
       "      <td>0.979427</td>\n",
       "      <td>-0.086042</td>\n",
       "      <td>1.000000</td>\n",
       "      <td>0.060014</td>\n",
       "    </tr>\n",
       "    <tr>\n",
       "      <th>company_size</th>\n",
       "      <td>0.479525</td>\n",
       "      <td>0.043889</td>\n",
       "      <td>0.003881</td>\n",
       "      <td>0.155619</td>\n",
       "      <td>-0.037579</td>\n",
       "      <td>0.150114</td>\n",
       "      <td>0.044818</td>\n",
       "      <td>0.076153</td>\n",
       "      <td>-0.209162</td>\n",
       "      <td>0.060014</td>\n",
       "      <td>1.000000</td>\n",
       "    </tr>\n",
       "  </tbody>\n",
       "</table>\n",
       "</div>"
      ],
      "text/plain": [
       "                    work_year  experience_level  employment_type  job_title  \\\n",
       "work_year            1.000000          0.044315         0.027263   0.178256   \n",
       "experience_level     0.044315          1.000000        -0.020425   0.120954   \n",
       "employment_type      0.027263         -0.020425         1.000000   0.014496   \n",
       "job_title            0.178256          0.120954         0.014496   1.000000   \n",
       "salary              -0.015083          0.010902        -0.000076  -0.010669   \n",
       "salary_currency      0.236286          0.084069         0.010126   0.098147   \n",
       "salary_in_usd        0.103950          0.247973        -0.020565   0.117071   \n",
       "employee_residence   0.148409          0.049898         0.004371   0.062542   \n",
       "remote_ratio        -0.346694          0.021562        -0.014494  -0.063712   \n",
       "company_location     0.132956          0.050617         0.005443   0.057921   \n",
       "company_size         0.479525          0.043889         0.003881   0.155619   \n",
       "\n",
       "                      salary  salary_currency  salary_in_usd  \\\n",
       "work_year          -0.015083         0.236286       0.103950   \n",
       "experience_level    0.010902         0.084069       0.247973   \n",
       "employment_type    -0.000076         0.010126      -0.020565   \n",
       "job_title          -0.010669         0.098147       0.117071   \n",
       "salary              1.000000        -0.033163      -0.010931   \n",
       "salary_currency    -0.033163         1.000000       0.264265   \n",
       "salary_in_usd      -0.010931         0.264265       1.000000   \n",
       "employee_residence -0.024177         0.609955       0.202987   \n",
       "remote_ratio        0.013022        -0.105842       0.000443   \n",
       "company_location   -0.024836         0.591427       0.205049   \n",
       "company_size       -0.037579         0.150114       0.044818   \n",
       "\n",
       "                    employee_residence  remote_ratio  company_location  \\\n",
       "work_year                     0.148409     -0.346694          0.132956   \n",
       "experience_level              0.049898      0.021562          0.050617   \n",
       "employment_type               0.004371     -0.014494          0.005443   \n",
       "job_title                     0.062542     -0.063712          0.057921   \n",
       "salary                       -0.024177      0.013022         -0.024836   \n",
       "salary_currency               0.609955     -0.105842          0.591427   \n",
       "salary_in_usd                 0.202987      0.000443          0.205049   \n",
       "employee_residence            1.000000     -0.096864          0.979427   \n",
       "remote_ratio                 -0.096864      1.000000         -0.086042   \n",
       "company_location              0.979427     -0.086042          1.000000   \n",
       "company_size                  0.076153     -0.209162          0.060014   \n",
       "\n",
       "                    company_size  \n",
       "work_year               0.479525  \n",
       "experience_level        0.043889  \n",
       "employment_type         0.003881  \n",
       "job_title               0.155619  \n",
       "salary                 -0.037579  \n",
       "salary_currency         0.150114  \n",
       "salary_in_usd           0.044818  \n",
       "employee_residence      0.076153  \n",
       "remote_ratio           -0.209162  \n",
       "company_location        0.060014  \n",
       "company_size            1.000000  "
      ]
     },
     "execution_count": 26,
     "metadata": {},
     "output_type": "execute_result"
    }
   ],
   "source": [
    "correlation"
   ]
  },
  {
   "cell_type": "markdown",
   "id": "b9b0528b",
   "metadata": {
    "papermill": {
     "duration": 0.023286,
     "end_time": "2023-11-13T12:18:15.705969",
     "exception": false,
     "start_time": "2023-11-13T12:18:15.682683",
     "status": "completed"
    },
    "tags": []
   },
   "source": [
    "* **Positive correlations:**\n",
    "\n",
    "1. Work experience (work_year) and company size (company_size_encoded): 0.414918\n",
    "1. Company size (company_size_encoded) and salary currency (salary_currency_encoded): 0.728411\n",
    "1. Employee residence (employee_residence_encoded) and company location (company_location_encoded): 0.942170\n",
    "* **Negative correlations:**\n",
    "\n",
    "1. Work experience (work_year) and remote work (remote_ratio): -0.250503\n",
    "1. Company size (company_size_encoded) and remote work (remote_ratio): -0.163147\n",
    "1. Salary currency (salary_currency_encoded) and remote work (remote_ratio): -0.114102"
   ]
  },
  {
   "cell_type": "markdown",
   "id": "65d6573d",
   "metadata": {
    "papermill": {
     "duration": 0.023192,
     "end_time": "2023-11-13T12:18:15.752733",
     "exception": false,
     "start_time": "2023-11-13T12:18:15.729541",
     "status": "completed"
    },
    "tags": []
   },
   "source": [
    "# Prediction"
   ]
  },
  {
   "cell_type": "code",
   "execution_count": 27,
   "id": "9d743585",
   "metadata": {
    "execution": {
     "iopub.execute_input": "2023-11-13T12:18:15.802180Z",
     "iopub.status.busy": "2023-11-13T12:18:15.801729Z",
     "iopub.status.idle": "2023-11-13T12:18:16.182067Z",
     "shell.execute_reply": "2023-11-13T12:18:16.180693Z"
    },
    "papermill": {
     "duration": 0.408647,
     "end_time": "2023-11-13T12:18:16.184941",
     "exception": false,
     "start_time": "2023-11-13T12:18:15.776294",
     "status": "completed"
    },
    "tags": []
   },
   "outputs": [],
   "source": [
    "from sklearn.model_selection import train_test_split\n",
    "from sklearn.ensemble import RandomForestRegressor\n",
    "\n",
    "forest1 = RandomForestRegressor()\n",
    "\n",
    "X = df_enc.drop('salary_in_usd', axis = 1)\n",
    "y = df_enc['salary_in_usd']\n",
    "\n",
    "X_train, X_test, y_train, y_test = train_test_split(X, y, test_size=0.2, random_state=42)"
   ]
  },
  {
   "cell_type": "code",
   "execution_count": 28,
   "id": "209c89f5",
   "metadata": {
    "execution": {
     "iopub.execute_input": "2023-11-13T12:18:16.236461Z",
     "iopub.status.busy": "2023-11-13T12:18:16.236032Z",
     "iopub.status.idle": "2023-11-13T12:18:16.930981Z",
     "shell.execute_reply": "2023-11-13T12:18:16.929735Z"
    },
    "papermill": {
     "duration": 0.724437,
     "end_time": "2023-11-13T12:18:16.933824",
     "exception": false,
     "start_time": "2023-11-13T12:18:16.209387",
     "status": "completed"
    },
    "tags": []
   },
   "outputs": [
    {
     "data": {
      "text/html": [
       "<style>#sk-container-id-1 {color: black;}#sk-container-id-1 pre{padding: 0;}#sk-container-id-1 div.sk-toggleable {background-color: white;}#sk-container-id-1 label.sk-toggleable__label {cursor: pointer;display: block;width: 100%;margin-bottom: 0;padding: 0.3em;box-sizing: border-box;text-align: center;}#sk-container-id-1 label.sk-toggleable__label-arrow:before {content: \"▸\";float: left;margin-right: 0.25em;color: #696969;}#sk-container-id-1 label.sk-toggleable__label-arrow:hover:before {color: black;}#sk-container-id-1 div.sk-estimator:hover label.sk-toggleable__label-arrow:before {color: black;}#sk-container-id-1 div.sk-toggleable__content {max-height: 0;max-width: 0;overflow: hidden;text-align: left;background-color: #f0f8ff;}#sk-container-id-1 div.sk-toggleable__content pre {margin: 0.2em;color: black;border-radius: 0.25em;background-color: #f0f8ff;}#sk-container-id-1 input.sk-toggleable__control:checked~div.sk-toggleable__content {max-height: 200px;max-width: 100%;overflow: auto;}#sk-container-id-1 input.sk-toggleable__control:checked~label.sk-toggleable__label-arrow:before {content: \"▾\";}#sk-container-id-1 div.sk-estimator input.sk-toggleable__control:checked~label.sk-toggleable__label {background-color: #d4ebff;}#sk-container-id-1 div.sk-label input.sk-toggleable__control:checked~label.sk-toggleable__label {background-color: #d4ebff;}#sk-container-id-1 input.sk-hidden--visually {border: 0;clip: rect(1px 1px 1px 1px);clip: rect(1px, 1px, 1px, 1px);height: 1px;margin: -1px;overflow: hidden;padding: 0;position: absolute;width: 1px;}#sk-container-id-1 div.sk-estimator {font-family: monospace;background-color: #f0f8ff;border: 1px dotted black;border-radius: 0.25em;box-sizing: border-box;margin-bottom: 0.5em;}#sk-container-id-1 div.sk-estimator:hover {background-color: #d4ebff;}#sk-container-id-1 div.sk-parallel-item::after {content: \"\";width: 100%;border-bottom: 1px solid gray;flex-grow: 1;}#sk-container-id-1 div.sk-label:hover label.sk-toggleable__label {background-color: #d4ebff;}#sk-container-id-1 div.sk-serial::before {content: \"\";position: absolute;border-left: 1px solid gray;box-sizing: border-box;top: 0;bottom: 0;left: 50%;z-index: 0;}#sk-container-id-1 div.sk-serial {display: flex;flex-direction: column;align-items: center;background-color: white;padding-right: 0.2em;padding-left: 0.2em;position: relative;}#sk-container-id-1 div.sk-item {position: relative;z-index: 1;}#sk-container-id-1 div.sk-parallel {display: flex;align-items: stretch;justify-content: center;background-color: white;position: relative;}#sk-container-id-1 div.sk-item::before, #sk-container-id-1 div.sk-parallel-item::before {content: \"\";position: absolute;border-left: 1px solid gray;box-sizing: border-box;top: 0;bottom: 0;left: 50%;z-index: -1;}#sk-container-id-1 div.sk-parallel-item {display: flex;flex-direction: column;z-index: 1;position: relative;background-color: white;}#sk-container-id-1 div.sk-parallel-item:first-child::after {align-self: flex-end;width: 50%;}#sk-container-id-1 div.sk-parallel-item:last-child::after {align-self: flex-start;width: 50%;}#sk-container-id-1 div.sk-parallel-item:only-child::after {width: 0;}#sk-container-id-1 div.sk-dashed-wrapped {border: 1px dashed gray;margin: 0 0.4em 0.5em 0.4em;box-sizing: border-box;padding-bottom: 0.4em;background-color: white;}#sk-container-id-1 div.sk-label label {font-family: monospace;font-weight: bold;display: inline-block;line-height: 1.2em;}#sk-container-id-1 div.sk-label-container {text-align: center;}#sk-container-id-1 div.sk-container {/* jupyter's `normalize.less` sets `[hidden] { display: none; }` but bootstrap.min.css set `[hidden] { display: none !important; }` so we also need the `!important` here to be able to override the default hidden behavior on the sphinx rendered scikit-learn.org. See: https://github.com/scikit-learn/scikit-learn/issues/21755 */display: inline-block !important;position: relative;}#sk-container-id-1 div.sk-text-repr-fallback {display: none;}</style><div id=\"sk-container-id-1\" class=\"sk-top-container\"><div class=\"sk-text-repr-fallback\"><pre>RandomForestRegressor()</pre><b>In a Jupyter environment, please rerun this cell to show the HTML representation or trust the notebook. <br />On GitHub, the HTML representation is unable to render, please try loading this page with nbviewer.org.</b></div><div class=\"sk-container\" hidden><div class=\"sk-item\"><div class=\"sk-estimator sk-toggleable\"><input class=\"sk-toggleable__control sk-hidden--visually\" id=\"sk-estimator-id-1\" type=\"checkbox\" checked><label for=\"sk-estimator-id-1\" class=\"sk-toggleable__label sk-toggleable__label-arrow\">RandomForestRegressor</label><div class=\"sk-toggleable__content\"><pre>RandomForestRegressor()</pre></div></div></div></div></div>"
      ],
      "text/plain": [
       "RandomForestRegressor()"
      ]
     },
     "execution_count": 28,
     "metadata": {},
     "output_type": "execute_result"
    }
   ],
   "source": [
    "forest1.fit(X_train, y_train)"
   ]
  },
  {
   "cell_type": "code",
   "execution_count": 29,
   "id": "414a2fbb",
   "metadata": {
    "execution": {
     "iopub.execute_input": "2023-11-13T12:18:16.985239Z",
     "iopub.status.busy": "2023-11-13T12:18:16.984040Z",
     "iopub.status.idle": "2023-11-13T12:18:17.014552Z",
     "shell.execute_reply": "2023-11-13T12:18:17.013278Z"
    },
    "papermill": {
     "duration": 0.058775,
     "end_time": "2023-11-13T12:18:17.017123",
     "exception": false,
     "start_time": "2023-11-13T12:18:16.958348",
     "status": "completed"
    },
    "tags": []
   },
   "outputs": [
    {
     "data": {
      "text/plain": [
       "0.9962573573327747"
      ]
     },
     "execution_count": 29,
     "metadata": {},
     "output_type": "execute_result"
    }
   ],
   "source": [
    "forest1.score(X_test, y_test)"
   ]
  },
  {
   "cell_type": "code",
   "execution_count": 30,
   "id": "8650b07e",
   "metadata": {
    "execution": {
     "iopub.execute_input": "2023-11-13T12:18:17.068824Z",
     "iopub.status.busy": "2023-11-13T12:18:17.067817Z",
     "iopub.status.idle": "2023-11-13T12:18:35.293886Z",
     "shell.execute_reply": "2023-11-13T12:18:35.292124Z"
    },
    "papermill": {
     "duration": 18.254583,
     "end_time": "2023-11-13T12:18:35.296616",
     "exception": false,
     "start_time": "2023-11-13T12:18:17.042033",
     "status": "completed"
    },
    "tags": []
   },
   "outputs": [
    {
     "name": "stdout",
     "output_type": "stream",
     "text": [
      "The best parameters: {'n_estimators': 300, 'min_samples_split': 10, 'min_samples_leaf': 1, 'max_depth': 20}\n"
     ]
    }
   ],
   "source": [
    "from sklearn.model_selection import RandomizedSearchCV\n",
    "from sklearn.metrics import make_scorer\n",
    "\n",
    "param_dist = {\n",
    "    'n_estimators': [50, 100, 200, 300],\n",
    "    'max_depth': [None, 10, 20, 30],\n",
    "    'min_samples_split': [2, 5, 10],\n",
    "    'min_samples_leaf': [1, 2, 4]\n",
    "}\n",
    "scorer = make_scorer(mean_squared_error, greater_is_better=False)\n",
    "\n",
    "random_search = RandomizedSearchCV(forest1, param_distributions=param_dist, scoring=scorer, n_iter=10, cv=5, n_jobs=-1)\n",
    "\n",
    "random_search.fit(X_train, y_train)\n",
    "\n",
    "best_params = random_search.best_params_\n",
    "print(\"The best parameters:\", best_params)\n",
    "\n",
    "best_model = random_search.best_estimator_"
   ]
  },
  {
   "cell_type": "code",
   "execution_count": 31,
   "id": "45bd9a68",
   "metadata": {
    "execution": {
     "iopub.execute_input": "2023-11-13T12:18:35.352141Z",
     "iopub.status.busy": "2023-11-13T12:18:35.351721Z",
     "iopub.status.idle": "2023-11-13T12:18:35.362198Z",
     "shell.execute_reply": "2023-11-13T12:18:35.360434Z"
    },
    "papermill": {
     "duration": 0.042347,
     "end_time": "2023-11-13T12:18:35.365839",
     "exception": false,
     "start_time": "2023-11-13T12:18:35.323492",
     "status": "completed"
    },
    "tags": []
   },
   "outputs": [
    {
     "data": {
      "text/html": [
       "<style>#sk-container-id-2 {color: black;}#sk-container-id-2 pre{padding: 0;}#sk-container-id-2 div.sk-toggleable {background-color: white;}#sk-container-id-2 label.sk-toggleable__label {cursor: pointer;display: block;width: 100%;margin-bottom: 0;padding: 0.3em;box-sizing: border-box;text-align: center;}#sk-container-id-2 label.sk-toggleable__label-arrow:before {content: \"▸\";float: left;margin-right: 0.25em;color: #696969;}#sk-container-id-2 label.sk-toggleable__label-arrow:hover:before {color: black;}#sk-container-id-2 div.sk-estimator:hover label.sk-toggleable__label-arrow:before {color: black;}#sk-container-id-2 div.sk-toggleable__content {max-height: 0;max-width: 0;overflow: hidden;text-align: left;background-color: #f0f8ff;}#sk-container-id-2 div.sk-toggleable__content pre {margin: 0.2em;color: black;border-radius: 0.25em;background-color: #f0f8ff;}#sk-container-id-2 input.sk-toggleable__control:checked~div.sk-toggleable__content {max-height: 200px;max-width: 100%;overflow: auto;}#sk-container-id-2 input.sk-toggleable__control:checked~label.sk-toggleable__label-arrow:before {content: \"▾\";}#sk-container-id-2 div.sk-estimator input.sk-toggleable__control:checked~label.sk-toggleable__label {background-color: #d4ebff;}#sk-container-id-2 div.sk-label input.sk-toggleable__control:checked~label.sk-toggleable__label {background-color: #d4ebff;}#sk-container-id-2 input.sk-hidden--visually {border: 0;clip: rect(1px 1px 1px 1px);clip: rect(1px, 1px, 1px, 1px);height: 1px;margin: -1px;overflow: hidden;padding: 0;position: absolute;width: 1px;}#sk-container-id-2 div.sk-estimator {font-family: monospace;background-color: #f0f8ff;border: 1px dotted black;border-radius: 0.25em;box-sizing: border-box;margin-bottom: 0.5em;}#sk-container-id-2 div.sk-estimator:hover {background-color: #d4ebff;}#sk-container-id-2 div.sk-parallel-item::after {content: \"\";width: 100%;border-bottom: 1px solid gray;flex-grow: 1;}#sk-container-id-2 div.sk-label:hover label.sk-toggleable__label {background-color: #d4ebff;}#sk-container-id-2 div.sk-serial::before {content: \"\";position: absolute;border-left: 1px solid gray;box-sizing: border-box;top: 0;bottom: 0;left: 50%;z-index: 0;}#sk-container-id-2 div.sk-serial {display: flex;flex-direction: column;align-items: center;background-color: white;padding-right: 0.2em;padding-left: 0.2em;position: relative;}#sk-container-id-2 div.sk-item {position: relative;z-index: 1;}#sk-container-id-2 div.sk-parallel {display: flex;align-items: stretch;justify-content: center;background-color: white;position: relative;}#sk-container-id-2 div.sk-item::before, #sk-container-id-2 div.sk-parallel-item::before {content: \"\";position: absolute;border-left: 1px solid gray;box-sizing: border-box;top: 0;bottom: 0;left: 50%;z-index: -1;}#sk-container-id-2 div.sk-parallel-item {display: flex;flex-direction: column;z-index: 1;position: relative;background-color: white;}#sk-container-id-2 div.sk-parallel-item:first-child::after {align-self: flex-end;width: 50%;}#sk-container-id-2 div.sk-parallel-item:last-child::after {align-self: flex-start;width: 50%;}#sk-container-id-2 div.sk-parallel-item:only-child::after {width: 0;}#sk-container-id-2 div.sk-dashed-wrapped {border: 1px dashed gray;margin: 0 0.4em 0.5em 0.4em;box-sizing: border-box;padding-bottom: 0.4em;background-color: white;}#sk-container-id-2 div.sk-label label {font-family: monospace;font-weight: bold;display: inline-block;line-height: 1.2em;}#sk-container-id-2 div.sk-label-container {text-align: center;}#sk-container-id-2 div.sk-container {/* jupyter's `normalize.less` sets `[hidden] { display: none; }` but bootstrap.min.css set `[hidden] { display: none !important; }` so we also need the `!important` here to be able to override the default hidden behavior on the sphinx rendered scikit-learn.org. See: https://github.com/scikit-learn/scikit-learn/issues/21755 */display: inline-block !important;position: relative;}#sk-container-id-2 div.sk-text-repr-fallback {display: none;}</style><div id=\"sk-container-id-2\" class=\"sk-top-container\"><div class=\"sk-text-repr-fallback\"><pre>RandomForestRegressor(max_depth=20, min_samples_split=10, n_estimators=300)</pre><b>In a Jupyter environment, please rerun this cell to show the HTML representation or trust the notebook. <br />On GitHub, the HTML representation is unable to render, please try loading this page with nbviewer.org.</b></div><div class=\"sk-container\" hidden><div class=\"sk-item\"><div class=\"sk-estimator sk-toggleable\"><input class=\"sk-toggleable__control sk-hidden--visually\" id=\"sk-estimator-id-2\" type=\"checkbox\" checked><label for=\"sk-estimator-id-2\" class=\"sk-toggleable__label sk-toggleable__label-arrow\">RandomForestRegressor</label><div class=\"sk-toggleable__content\"><pre>RandomForestRegressor(max_depth=20, min_samples_split=10, n_estimators=300)</pre></div></div></div></div></div>"
      ],
      "text/plain": [
       "RandomForestRegressor(max_depth=20, min_samples_split=10, n_estimators=300)"
      ]
     },
     "execution_count": 31,
     "metadata": {},
     "output_type": "execute_result"
    }
   ],
   "source": [
    "best_model"
   ]
  },
  {
   "cell_type": "code",
   "execution_count": 32,
   "id": "c5434edd",
   "metadata": {
    "execution": {
     "iopub.execute_input": "2023-11-13T12:18:35.419032Z",
     "iopub.status.busy": "2023-11-13T12:18:35.418620Z",
     "iopub.status.idle": "2023-11-13T12:18:36.111357Z",
     "shell.execute_reply": "2023-11-13T12:18:36.110078Z"
    },
    "papermill": {
     "duration": 0.72239,
     "end_time": "2023-11-13T12:18:36.114541",
     "exception": false,
     "start_time": "2023-11-13T12:18:35.392151",
     "status": "completed"
    },
    "tags": []
   },
   "outputs": [],
   "source": [
    "best_model.fit(X_train, y_train)\n",
    "predictions2 = best_model.predict(X_test)"
   ]
  },
  {
   "cell_type": "code",
   "execution_count": 33,
   "id": "c2985ab7",
   "metadata": {
    "execution": {
     "iopub.execute_input": "2023-11-13T12:18:36.167696Z",
     "iopub.status.busy": "2023-11-13T12:18:36.167229Z",
     "iopub.status.idle": "2023-11-13T12:18:36.194341Z",
     "shell.execute_reply": "2023-11-13T12:18:36.193357Z"
    },
    "papermill": {
     "duration": 0.056365,
     "end_time": "2023-11-13T12:18:36.196955",
     "exception": false,
     "start_time": "2023-11-13T12:18:36.140590",
     "status": "completed"
    },
    "tags": []
   },
   "outputs": [
    {
     "data": {
      "text/plain": [
       "0.9954792044566295"
      ]
     },
     "execution_count": 33,
     "metadata": {},
     "output_type": "execute_result"
    }
   ],
   "source": [
    "best_model.score(X_test, y_test)"
   ]
  },
  {
   "cell_type": "code",
   "execution_count": 34,
   "id": "11732d34",
   "metadata": {
    "execution": {
     "iopub.execute_input": "2023-11-13T12:18:36.252776Z",
     "iopub.status.busy": "2023-11-13T12:18:36.252387Z",
     "iopub.status.idle": "2023-11-13T12:18:36.260831Z",
     "shell.execute_reply": "2023-11-13T12:18:36.259447Z"
    },
    "papermill": {
     "duration": 0.040015,
     "end_time": "2023-11-13T12:18:36.263109",
     "exception": false,
     "start_time": "2023-11-13T12:18:36.223094",
     "status": "completed"
    },
    "tags": []
   },
   "outputs": [
    {
     "name": "stdout",
     "output_type": "stream",
     "text": [
      "Root mean square error: 19324083.803918883\n",
      "Mean absolute error value (MAE): 571.0592295345356\n"
     ]
    }
   ],
   "source": [
    "mse = mean_squared_error(y_test, predictions2)\n",
    "mae = mean_absolute_error(y_test, predictions2)\n",
    "\n",
    "print(f\"Root mean square error: {mse}\")\n",
    "print(f\"Mean absolute error value (MAE): {mae}\")"
   ]
  }
 ],
 "metadata": {
  "kernelspec": {
   "display_name": "AI4C_AY2425",
   "language": "python",
   "name": "python3"
  },
  "language_info": {
   "codemirror_mode": {
    "name": "ipython",
    "version": 3
   },
   "file_extension": ".py",
   "mimetype": "text/x-python",
   "name": "python",
   "nbconvert_exporter": "python",
   "pygments_lexer": "ipython3",
   "version": "3.8.20"
  },
  "papermill": {
   "default_parameters": {},
   "duration": 34.931334,
   "end_time": "2023-11-13T12:18:38.910184",
   "environment_variables": {},
   "exception": null,
   "input_path": "__notebook__.ipynb",
   "output_path": "__notebook__.ipynb",
   "parameters": {},
   "start_time": "2023-11-13T12:18:03.978850",
   "version": "2.4.0"
  }
 },
 "nbformat": 4,
 "nbformat_minor": 5
}
